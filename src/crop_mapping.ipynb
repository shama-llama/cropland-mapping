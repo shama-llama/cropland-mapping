{
  "cells": [
    {
      "cell_type": "markdown",
      "metadata": {
        "id": "view-in-github",
        "colab_type": "text"
      },
      "source": [
        "<a href=\"https://colab.research.google.com/github/shama-llama/crop-mapping/blob/main/src/crop_mapping.ipynb\" target=\"_parent\"><img src=\"https://colab.research.google.com/assets/colab-badge.svg\" alt=\"Open In Colab\"/></a>"
      ]
    },
    {
      "cell_type": "markdown",
      "metadata": {
        "id": "-762C6yESaA5"
      },
      "source": [
        "# Crop Classification EDA\n",
        "## Exploratory Data Analysis for Bi-Temporal Optical-Radar Data"
      ]
    },
    {
      "cell_type": "code",
      "source": [
        "from google.colab import drive\n",
        "drive.mount('/content/drive')"
      ],
      "metadata": {
        "colab": {
          "base_uri": "https://localhost:8080/"
        },
        "id": "TTQ2tR4zSit1",
        "outputId": "3758d07e-b4cc-48d4-a7dc-61b679fd7029"
      },
      "execution_count": 1,
      "outputs": [
        {
          "output_type": "stream",
          "name": "stdout",
          "text": [
            "Mounted at /content/drive\n"
          ]
        }
      ]
    },
    {
      "cell_type": "markdown",
      "metadata": {
        "id": "2eeT2ufwSaA-"
      },
      "source": [
        "## 1. Import Libraries"
      ]
    },
    {
      "cell_type": "code",
      "execution_count": 2,
      "metadata": {
        "id": "aN7D-57KSaA_"
      },
      "outputs": [],
      "source": [
        "import pandas as pd\n",
        "import numpy as np\n",
        "import matplotlib.pyplot as plt\n",
        "import seaborn as sns\n",
        "from sklearn.decomposition import PCA\n",
        "from sklearn.preprocessing import StandardScaler\n",
        "import plotly.express as px\n",
        "\n",
        "%matplotlib inline\n",
        "sns.set(style='whitegrid', palette='muted')"
      ]
    },
    {
      "cell_type": "markdown",
      "metadata": {
        "id": "F18v73qJSaBB"
      },
      "source": [
        "## 2. Data Loading & Initial Inspection"
      ]
    },
    {
      "cell_type": "code",
      "execution_count": 3,
      "metadata": {
        "colab": {
          "base_uri": "https://localhost:8080/",
          "height": 253
        },
        "id": "bUhQM7QySaBC",
        "outputId": "7aaf68d9-ee66-4658-84ab-d84120683f55"
      },
      "outputs": [
        {
          "output_type": "stream",
          "name": "stdout",
          "text": [
            "Dataset shape: (325834, 175)\n"
          ]
        },
        {
          "output_type": "execute_result",
          "data": {
            "text/plain": [
              "   label      f1      f2       f3      f4      f5      f6      f7      f8  \\\n",
              "0      1 -13.559 -21.407 -11.4040 -15.248 -11.923 -15.291 -2.1548 -7.8474   \n",
              "1      1 -12.802 -20.335 -10.3990 -14.132 -11.096 -14.361 -2.4039 -7.5330   \n",
              "2      1 -12.431 -19.902 -10.0740 -13.598 -10.829 -14.048 -2.3566 -7.4717   \n",
              "3      1 -12.689 -19.529 -10.0280 -13.350 -11.056 -14.014 -2.6611 -6.8396   \n",
              "4      1 -12.686 -19.278  -9.8185 -13.108 -10.932 -13.939 -2.8675 -6.5919   \n",
              "\n",
              "        f9  ...     f165     f166    f167      f168     f169     f170  \\\n",
              "0 -10.0020  ...  0.18519  0.72602  5.3333  6.000000  0.29489  9.77780   \n",
              "1  -9.9369  ...  0.33333 -0.48751  2.1111  0.098765  0.83333  0.33333   \n",
              "2  -9.8283  ...  0.25926  0.25298  2.2222  0.172840  0.68889  0.88889   \n",
              "3  -9.5006  ...  0.16049  0.43750  4.1111  0.320990  0.83333  0.33333   \n",
              "4  -9.4594  ...  0.18519  0.35000  4.0000  0.444440  0.68889  0.88889   \n",
              "\n",
              "      f171     f172     f173     f174  \n",
              "0  2.44440  1.67700  0.20988  0.65422  \n",
              "1  0.33333  0.84869  0.50617 -0.18898  \n",
              "2  0.66667  1.27300  0.30864  0.10483  \n",
              "3  0.33333  1.14910  0.38272  0.41603  \n",
              "4  0.66667  1.58110  0.20988  0.50000  \n",
              "\n",
              "[5 rows x 175 columns]"
            ],
            "text/html": [
              "\n",
              "  <div id=\"df-7b06c9ac-9df2-4732-bf78-13da81ee5d1d\" class=\"colab-df-container\">\n",
              "    <div>\n",
              "<style scoped>\n",
              "    .dataframe tbody tr th:only-of-type {\n",
              "        vertical-align: middle;\n",
              "    }\n",
              "\n",
              "    .dataframe tbody tr th {\n",
              "        vertical-align: top;\n",
              "    }\n",
              "\n",
              "    .dataframe thead th {\n",
              "        text-align: right;\n",
              "    }\n",
              "</style>\n",
              "<table border=\"1\" class=\"dataframe\">\n",
              "  <thead>\n",
              "    <tr style=\"text-align: right;\">\n",
              "      <th></th>\n",
              "      <th>label</th>\n",
              "      <th>f1</th>\n",
              "      <th>f2</th>\n",
              "      <th>f3</th>\n",
              "      <th>f4</th>\n",
              "      <th>f5</th>\n",
              "      <th>f6</th>\n",
              "      <th>f7</th>\n",
              "      <th>f8</th>\n",
              "      <th>f9</th>\n",
              "      <th>...</th>\n",
              "      <th>f165</th>\n",
              "      <th>f166</th>\n",
              "      <th>f167</th>\n",
              "      <th>f168</th>\n",
              "      <th>f169</th>\n",
              "      <th>f170</th>\n",
              "      <th>f171</th>\n",
              "      <th>f172</th>\n",
              "      <th>f173</th>\n",
              "      <th>f174</th>\n",
              "    </tr>\n",
              "  </thead>\n",
              "  <tbody>\n",
              "    <tr>\n",
              "      <th>0</th>\n",
              "      <td>1</td>\n",
              "      <td>-13.559</td>\n",
              "      <td>-21.407</td>\n",
              "      <td>-11.4040</td>\n",
              "      <td>-15.248</td>\n",
              "      <td>-11.923</td>\n",
              "      <td>-15.291</td>\n",
              "      <td>-2.1548</td>\n",
              "      <td>-7.8474</td>\n",
              "      <td>-10.0020</td>\n",
              "      <td>...</td>\n",
              "      <td>0.18519</td>\n",
              "      <td>0.72602</td>\n",
              "      <td>5.3333</td>\n",
              "      <td>6.000000</td>\n",
              "      <td>0.29489</td>\n",
              "      <td>9.77780</td>\n",
              "      <td>2.44440</td>\n",
              "      <td>1.67700</td>\n",
              "      <td>0.20988</td>\n",
              "      <td>0.65422</td>\n",
              "    </tr>\n",
              "    <tr>\n",
              "      <th>1</th>\n",
              "      <td>1</td>\n",
              "      <td>-12.802</td>\n",
              "      <td>-20.335</td>\n",
              "      <td>-10.3990</td>\n",
              "      <td>-14.132</td>\n",
              "      <td>-11.096</td>\n",
              "      <td>-14.361</td>\n",
              "      <td>-2.4039</td>\n",
              "      <td>-7.5330</td>\n",
              "      <td>-9.9369</td>\n",
              "      <td>...</td>\n",
              "      <td>0.33333</td>\n",
              "      <td>-0.48751</td>\n",
              "      <td>2.1111</td>\n",
              "      <td>0.098765</td>\n",
              "      <td>0.83333</td>\n",
              "      <td>0.33333</td>\n",
              "      <td>0.33333</td>\n",
              "      <td>0.84869</td>\n",
              "      <td>0.50617</td>\n",
              "      <td>-0.18898</td>\n",
              "    </tr>\n",
              "    <tr>\n",
              "      <th>2</th>\n",
              "      <td>1</td>\n",
              "      <td>-12.431</td>\n",
              "      <td>-19.902</td>\n",
              "      <td>-10.0740</td>\n",
              "      <td>-13.598</td>\n",
              "      <td>-10.829</td>\n",
              "      <td>-14.048</td>\n",
              "      <td>-2.3566</td>\n",
              "      <td>-7.4717</td>\n",
              "      <td>-9.8283</td>\n",
              "      <td>...</td>\n",
              "      <td>0.25926</td>\n",
              "      <td>0.25298</td>\n",
              "      <td>2.2222</td>\n",
              "      <td>0.172840</td>\n",
              "      <td>0.68889</td>\n",
              "      <td>0.88889</td>\n",
              "      <td>0.66667</td>\n",
              "      <td>1.27300</td>\n",
              "      <td>0.30864</td>\n",
              "      <td>0.10483</td>\n",
              "    </tr>\n",
              "    <tr>\n",
              "      <th>3</th>\n",
              "      <td>1</td>\n",
              "      <td>-12.689</td>\n",
              "      <td>-19.529</td>\n",
              "      <td>-10.0280</td>\n",
              "      <td>-13.350</td>\n",
              "      <td>-11.056</td>\n",
              "      <td>-14.014</td>\n",
              "      <td>-2.6611</td>\n",
              "      <td>-6.8396</td>\n",
              "      <td>-9.5006</td>\n",
              "      <td>...</td>\n",
              "      <td>0.16049</td>\n",
              "      <td>0.43750</td>\n",
              "      <td>4.1111</td>\n",
              "      <td>0.320990</td>\n",
              "      <td>0.83333</td>\n",
              "      <td>0.33333</td>\n",
              "      <td>0.33333</td>\n",
              "      <td>1.14910</td>\n",
              "      <td>0.38272</td>\n",
              "      <td>0.41603</td>\n",
              "    </tr>\n",
              "    <tr>\n",
              "      <th>4</th>\n",
              "      <td>1</td>\n",
              "      <td>-12.686</td>\n",
              "      <td>-19.278</td>\n",
              "      <td>-9.8185</td>\n",
              "      <td>-13.108</td>\n",
              "      <td>-10.932</td>\n",
              "      <td>-13.939</td>\n",
              "      <td>-2.8675</td>\n",
              "      <td>-6.5919</td>\n",
              "      <td>-9.4594</td>\n",
              "      <td>...</td>\n",
              "      <td>0.18519</td>\n",
              "      <td>0.35000</td>\n",
              "      <td>4.0000</td>\n",
              "      <td>0.444440</td>\n",
              "      <td>0.68889</td>\n",
              "      <td>0.88889</td>\n",
              "      <td>0.66667</td>\n",
              "      <td>1.58110</td>\n",
              "      <td>0.20988</td>\n",
              "      <td>0.50000</td>\n",
              "    </tr>\n",
              "  </tbody>\n",
              "</table>\n",
              "<p>5 rows × 175 columns</p>\n",
              "</div>\n",
              "    <div class=\"colab-df-buttons\">\n",
              "\n",
              "  <div class=\"colab-df-container\">\n",
              "    <button class=\"colab-df-convert\" onclick=\"convertToInteractive('df-7b06c9ac-9df2-4732-bf78-13da81ee5d1d')\"\n",
              "            title=\"Convert this dataframe to an interactive table.\"\n",
              "            style=\"display:none;\">\n",
              "\n",
              "  <svg xmlns=\"http://www.w3.org/2000/svg\" height=\"24px\" viewBox=\"0 -960 960 960\">\n",
              "    <path d=\"M120-120v-720h720v720H120Zm60-500h600v-160H180v160Zm220 220h160v-160H400v160Zm0 220h160v-160H400v160ZM180-400h160v-160H180v160Zm440 0h160v-160H620v160ZM180-180h160v-160H180v160Zm440 0h160v-160H620v160Z\"/>\n",
              "  </svg>\n",
              "    </button>\n",
              "\n",
              "  <style>\n",
              "    .colab-df-container {\n",
              "      display:flex;\n",
              "      gap: 12px;\n",
              "    }\n",
              "\n",
              "    .colab-df-convert {\n",
              "      background-color: #E8F0FE;\n",
              "      border: none;\n",
              "      border-radius: 50%;\n",
              "      cursor: pointer;\n",
              "      display: none;\n",
              "      fill: #1967D2;\n",
              "      height: 32px;\n",
              "      padding: 0 0 0 0;\n",
              "      width: 32px;\n",
              "    }\n",
              "\n",
              "    .colab-df-convert:hover {\n",
              "      background-color: #E2EBFA;\n",
              "      box-shadow: 0px 1px 2px rgba(60, 64, 67, 0.3), 0px 1px 3px 1px rgba(60, 64, 67, 0.15);\n",
              "      fill: #174EA6;\n",
              "    }\n",
              "\n",
              "    .colab-df-buttons div {\n",
              "      margin-bottom: 4px;\n",
              "    }\n",
              "\n",
              "    [theme=dark] .colab-df-convert {\n",
              "      background-color: #3B4455;\n",
              "      fill: #D2E3FC;\n",
              "    }\n",
              "\n",
              "    [theme=dark] .colab-df-convert:hover {\n",
              "      background-color: #434B5C;\n",
              "      box-shadow: 0px 1px 3px 1px rgba(0, 0, 0, 0.15);\n",
              "      filter: drop-shadow(0px 1px 2px rgba(0, 0, 0, 0.3));\n",
              "      fill: #FFFFFF;\n",
              "    }\n",
              "  </style>\n",
              "\n",
              "    <script>\n",
              "      const buttonEl =\n",
              "        document.querySelector('#df-7b06c9ac-9df2-4732-bf78-13da81ee5d1d button.colab-df-convert');\n",
              "      buttonEl.style.display =\n",
              "        google.colab.kernel.accessAllowed ? 'block' : 'none';\n",
              "\n",
              "      async function convertToInteractive(key) {\n",
              "        const element = document.querySelector('#df-7b06c9ac-9df2-4732-bf78-13da81ee5d1d');\n",
              "        const dataTable =\n",
              "          await google.colab.kernel.invokeFunction('convertToInteractive',\n",
              "                                                    [key], {});\n",
              "        if (!dataTable) return;\n",
              "\n",
              "        const docLinkHtml = 'Like what you see? Visit the ' +\n",
              "          '<a target=\"_blank\" href=https://colab.research.google.com/notebooks/data_table.ipynb>data table notebook</a>'\n",
              "          + ' to learn more about interactive tables.';\n",
              "        element.innerHTML = '';\n",
              "        dataTable['output_type'] = 'display_data';\n",
              "        await google.colab.output.renderOutput(dataTable, element);\n",
              "        const docLink = document.createElement('div');\n",
              "        docLink.innerHTML = docLinkHtml;\n",
              "        element.appendChild(docLink);\n",
              "      }\n",
              "    </script>\n",
              "  </div>\n",
              "\n",
              "\n",
              "<div id=\"df-91e96604-245b-4e90-b0da-042e46c0da9a\">\n",
              "  <button class=\"colab-df-quickchart\" onclick=\"quickchart('df-91e96604-245b-4e90-b0da-042e46c0da9a')\"\n",
              "            title=\"Suggest charts\"\n",
              "            style=\"display:none;\">\n",
              "\n",
              "<svg xmlns=\"http://www.w3.org/2000/svg\" height=\"24px\"viewBox=\"0 0 24 24\"\n",
              "     width=\"24px\">\n",
              "    <g>\n",
              "        <path d=\"M19 3H5c-1.1 0-2 .9-2 2v14c0 1.1.9 2 2 2h14c1.1 0 2-.9 2-2V5c0-1.1-.9-2-2-2zM9 17H7v-7h2v7zm4 0h-2V7h2v10zm4 0h-2v-4h2v4z\"/>\n",
              "    </g>\n",
              "</svg>\n",
              "  </button>\n",
              "\n",
              "<style>\n",
              "  .colab-df-quickchart {\n",
              "      --bg-color: #E8F0FE;\n",
              "      --fill-color: #1967D2;\n",
              "      --hover-bg-color: #E2EBFA;\n",
              "      --hover-fill-color: #174EA6;\n",
              "      --disabled-fill-color: #AAA;\n",
              "      --disabled-bg-color: #DDD;\n",
              "  }\n",
              "\n",
              "  [theme=dark] .colab-df-quickchart {\n",
              "      --bg-color: #3B4455;\n",
              "      --fill-color: #D2E3FC;\n",
              "      --hover-bg-color: #434B5C;\n",
              "      --hover-fill-color: #FFFFFF;\n",
              "      --disabled-bg-color: #3B4455;\n",
              "      --disabled-fill-color: #666;\n",
              "  }\n",
              "\n",
              "  .colab-df-quickchart {\n",
              "    background-color: var(--bg-color);\n",
              "    border: none;\n",
              "    border-radius: 50%;\n",
              "    cursor: pointer;\n",
              "    display: none;\n",
              "    fill: var(--fill-color);\n",
              "    height: 32px;\n",
              "    padding: 0;\n",
              "    width: 32px;\n",
              "  }\n",
              "\n",
              "  .colab-df-quickchart:hover {\n",
              "    background-color: var(--hover-bg-color);\n",
              "    box-shadow: 0 1px 2px rgba(60, 64, 67, 0.3), 0 1px 3px 1px rgba(60, 64, 67, 0.15);\n",
              "    fill: var(--button-hover-fill-color);\n",
              "  }\n",
              "\n",
              "  .colab-df-quickchart-complete:disabled,\n",
              "  .colab-df-quickchart-complete:disabled:hover {\n",
              "    background-color: var(--disabled-bg-color);\n",
              "    fill: var(--disabled-fill-color);\n",
              "    box-shadow: none;\n",
              "  }\n",
              "\n",
              "  .colab-df-spinner {\n",
              "    border: 2px solid var(--fill-color);\n",
              "    border-color: transparent;\n",
              "    border-bottom-color: var(--fill-color);\n",
              "    animation:\n",
              "      spin 1s steps(1) infinite;\n",
              "  }\n",
              "\n",
              "  @keyframes spin {\n",
              "    0% {\n",
              "      border-color: transparent;\n",
              "      border-bottom-color: var(--fill-color);\n",
              "      border-left-color: var(--fill-color);\n",
              "    }\n",
              "    20% {\n",
              "      border-color: transparent;\n",
              "      border-left-color: var(--fill-color);\n",
              "      border-top-color: var(--fill-color);\n",
              "    }\n",
              "    30% {\n",
              "      border-color: transparent;\n",
              "      border-left-color: var(--fill-color);\n",
              "      border-top-color: var(--fill-color);\n",
              "      border-right-color: var(--fill-color);\n",
              "    }\n",
              "    40% {\n",
              "      border-color: transparent;\n",
              "      border-right-color: var(--fill-color);\n",
              "      border-top-color: var(--fill-color);\n",
              "    }\n",
              "    60% {\n",
              "      border-color: transparent;\n",
              "      border-right-color: var(--fill-color);\n",
              "    }\n",
              "    80% {\n",
              "      border-color: transparent;\n",
              "      border-right-color: var(--fill-color);\n",
              "      border-bottom-color: var(--fill-color);\n",
              "    }\n",
              "    90% {\n",
              "      border-color: transparent;\n",
              "      border-bottom-color: var(--fill-color);\n",
              "    }\n",
              "  }\n",
              "</style>\n",
              "\n",
              "  <script>\n",
              "    async function quickchart(key) {\n",
              "      const quickchartButtonEl =\n",
              "        document.querySelector('#' + key + ' button');\n",
              "      quickchartButtonEl.disabled = true;  // To prevent multiple clicks.\n",
              "      quickchartButtonEl.classList.add('colab-df-spinner');\n",
              "      try {\n",
              "        const charts = await google.colab.kernel.invokeFunction(\n",
              "            'suggestCharts', [key], {});\n",
              "      } catch (error) {\n",
              "        console.error('Error during call to suggestCharts:', error);\n",
              "      }\n",
              "      quickchartButtonEl.classList.remove('colab-df-spinner');\n",
              "      quickchartButtonEl.classList.add('colab-df-quickchart-complete');\n",
              "    }\n",
              "    (() => {\n",
              "      let quickchartButtonEl =\n",
              "        document.querySelector('#df-91e96604-245b-4e90-b0da-042e46c0da9a button');\n",
              "      quickchartButtonEl.style.display =\n",
              "        google.colab.kernel.accessAllowed ? 'block' : 'none';\n",
              "    })();\n",
              "  </script>\n",
              "</div>\n",
              "\n",
              "    </div>\n",
              "  </div>\n"
            ],
            "application/vnd.google.colaboratory.intrinsic+json": {
              "type": "dataframe",
              "variable_name": "df"
            }
          },
          "metadata": {},
          "execution_count": 3
        }
      ],
      "source": [
        "# Load dataset\n",
        "df = pd.read_csv('/content/drive/MyDrive/projects/crop-mapping-with-deep-learning/crop-mapping/dataset/winnipeg_dataset.csv')\n",
        "\n",
        "# Create feature groups\n",
        "radar_features_05jul = [f'f{i}' for i in range(1,50)]\n",
        "radar_features_14jul = [f'f{i}' for i in range(50,99)]\n",
        "optical_features_05jul = [f'f{i}' for i in range(99,137)]\n",
        "optical_features_14jul = [f'f{i}' for i in range(137,175)]\n",
        "\n",
        "print(f\"Dataset shape: {df.shape}\")\n",
        "df.head()"
      ]
    },
    {
      "cell_type": "markdown",
      "metadata": {
        "id": "25VuF0GZSaBC"
      },
      "source": [
        "## 3. Class Distribution Analysis"
      ]
    },
    {
      "cell_type": "code",
      "execution_count": null,
      "metadata": {
        "id": "pqfUnda-SaBD"
      },
      "outputs": [],
      "source": [
        "# Class distribution\n",
        "plt.figure(figsize=(12,6))\n",
        "ax = sns.countplot(x='label', data=df, palette='viridis')\n",
        "plt.title('Class Distribution', fontsize=14)\n",
        "plt.xlabel('Crop Class', fontsize=12)\n",
        "plt.ylabel('Count', fontsize=12)\n",
        "\n",
        "# Add percentages\n",
        "total = len(df)\n",
        "for p in ax.patches:\n",
        "    percentage = f'{100 * p.get_height()/total:.1f}%\\n'\n",
        "    ax.annotate(percentage, (p.get_x() + p.get_width()/2., p.get_height()),\n",
        "                ha='center', va='center', xytext=(0,10), textcoords='offset points')\n",
        "plt.show()"
      ]
    },
    {
      "cell_type": "markdown",
      "metadata": {
        "id": "GCgMVd3MSaBE"
      },
      "source": [
        "**Interpretation:**\n",
        "- Shows imbalanced class distribution\n",
        "- Helps identify potential need for class balancing techniques\n",
        "- Reveals dominant crop types in the dataset"
      ]
    },
    {
      "cell_type": "markdown",
      "metadata": {
        "id": "KYo4Z2SzSaBF"
      },
      "source": [
        "## 4. Correlation Analysis"
      ]
    },
    {
      "cell_type": "code",
      "execution_count": null,
      "metadata": {
        "id": "HZFBjNLWSaBF"
      },
      "outputs": [],
      "source": [
        "# Calculate correlations with label (sampling for speed)\n",
        "sample_df = df.sample(frac=0.1, random_state=42)\n",
        "correlations = sample_df.corr()['label'].sort_values(ascending=False)\n",
        "\n",
        "# Plot top correlations\n",
        "plt.figure(figsize=(12,8))\n",
        "correlations[1:21].plot(kind='bar', color='teal')\n",
        "plt.title('Top 20 Features Correlated with Crop Class', fontsize=14)\n",
        "plt.xlabel('Features', fontsize=12)\n",
        "plt.ylabel('Correlation Coefficient', fontsize=12)\n",
        "plt.show()"
      ]
    },
    {
      "cell_type": "markdown",
      "metadata": {
        "id": "LOT87P9RSaBF"
      },
      "source": [
        "## 5. Feature Group Analysis"
      ]
    },
    {
      "cell_type": "code",
      "execution_count": null,
      "metadata": {
        "id": "PhC_AfhLSaBF"
      },
      "outputs": [],
      "source": [
        "# Radar vs Optical feature distributions\n",
        "fig, ax = plt.subplots(2,2, figsize=(16,12))\n",
        "\n",
        "# Radar features\n",
        "sns.violinplot(data=df[radar_features_05jul[:5]], ax=ax[0,0])\n",
        "ax[0,0].set_title('Radar Features (05 Jul)', fontsize=12)\n",
        "sns.violinplot(data=df[radar_features_14jul[:5]], ax=ax[0,1])\n",
        "ax[0,1].set_title('Radar Features (14 Jul)', fontsize=12)\n",
        "\n",
        "# Optical features\n",
        "sns.violinplot(data=df[optical_features_05jul[:5]], ax=ax[1,0])\n",
        "ax[1,0].set_title('Optical Features (05 Jul)', fontsize=12)\n",
        "sns.violinplot(data=df[optical_features_14jul[:5]], ax=ax[1,1])\n",
        "ax[1,1].set_title('Optical Features (14 Jul)', fontsize=12)\n",
        "\n",
        "plt.tight_layout()\n",
        "plt.show()"
      ]
    },
    {
      "cell_type": "markdown",
      "metadata": {
        "id": "34dKDaGKSaBG"
      },
      "source": [
        "## 6. Temporal Feature Comparison"
      ]
    },
    {
      "cell_type": "code",
      "execution_count": null,
      "metadata": {
        "id": "DYgZLPO2SaBG"
      },
      "outputs": [],
      "source": [
        "# Compare temporal development for sample features\n",
        "sample_features = ['f1', 'f50', 'f99', 'f137']  # Example features from different groups\n",
        "\n",
        "plt.figure(figsize=(14,8))\n",
        "for i, feat in enumerate(sample_features, 1):\n",
        "    plt.subplot(2,2,i)\n",
        "    sns.kdeplot(data=df, x=feat, hue='label', palette='viridis', fill=True)\n",
        "    plt.title(f'Distribution of {feat} by Class')\n",
        "    plt.xlabel('')\n",
        "plt.tight_layout()\n",
        "plt.show()"
      ]
    },
    {
      "cell_type": "markdown",
      "metadata": {
        "id": "_JW2VSnoSaBG"
      },
      "source": [
        "## 7. Dimensionality Reduction (PCA)"
      ]
    },
    {
      "cell_type": "code",
      "execution_count": null,
      "metadata": {
        "id": "u4coM1csSaBG"
      },
      "outputs": [],
      "source": [
        "# Perform PCA on sampled data\n",
        "sample_df = df.sample(n=10000, random_state=42)\n",
        "X = sample_df.drop('label', axis=1)\n",
        "y = sample_df['label']\n",
        "\n",
        "# Standardize data\n",
        "scaler = StandardScaler()\n",
        "X_scaled = scaler.fit_transform(X)\n",
        "\n",
        "# PCA\n",
        "pca = PCA(n_components=2)\n",
        "principal_components = pca.fit_transform(X_scaled)\n",
        "\n",
        "# Plot\n",
        "plt.figure(figsize=(12,8))\n",
        "sns.scatterplot(x=principal_components[:,0], y=principal_components[:,1],\n",
        "                hue=y, palette='viridis', alpha=0.6)\n",
        "plt.title('PCA Projection of Crop Features', fontsize=14)\n",
        "plt.xlabel('Principal Component 1', fontsize=12)\n",
        "plt.ylabel('Principal Component 2', fontsize=12)\n",
        "plt.show()"
      ]
    },
    {
      "cell_type": "markdown",
      "metadata": {
        "id": "Ns0BznxFSaBH"
      },
      "source": [
        "## 8. Interactive 3D Visualization (Plotly)"
      ]
    },
    {
      "cell_type": "code",
      "execution_count": null,
      "metadata": {
        "id": "Y8ShLn9WSaBH"
      },
      "outputs": [],
      "source": [
        "# 3D PCA\n",
        "pca3d = PCA(n_components=3)\n",
        "components_3d = pca3d.fit_transform(X_scaled)\n",
        "\n",
        "fig = px.scatter_3d(\n",
        "    x=components_3d[:,0], y=components_3d[:,1], z=components_3d[:,2],\n",
        "    color=y, labels={'color': 'Crop Class'},\n",
        "    title=\"3D PCA Projection of Crop Features\"\n",
        ")\n",
        "fig.update_traces(marker_size=3, marker_opacity=0.7)\n",
        "fig.show()"
      ]
    },
    {
      "cell_type": "markdown",
      "metadata": {
        "id": "Iw7U_N6ESaBH"
      },
      "source": [
        "## 9. Feature Temporal Differences"
      ]
    },
    {
      "cell_type": "code",
      "execution_count": null,
      "metadata": {
        "id": "ps4b7ELqSaBH"
      },
      "outputs": [],
      "source": [
        "# Compare feature means between dates\n",
        "radar_diff = df[radar_features_14jul].mean(axis=1) - df[radar_features_05jul].mean(axis=1)\n",
        "optical_diff = df[optical_features_14jul].mean(axis=1) - df[optical_features_05jul].mean(axis=1)\n",
        "\n",
        "plt.figure(figsize=(14,6))\n",
        "plt.subplot(1,2,1)\n",
        "sns.boxplot(x=df['label'], y=radar_diff, palette='viridis')\n",
        "plt.title('Radar Feature Differences (14 Jul - 05 Jul)')\n",
        "\n",
        "plt.subplot(1,2,2)\n",
        "sns.boxplot(x=df['label'], y=optical_diff, palette='viridis')\n",
        "plt.title('Optical Feature Differences (14 Jul - 05 Jul)')\n",
        "plt.tight_layout()\n",
        "plt.show()"
      ]
    }
  ],
  "metadata": {
    "kernelspec": {
      "display_name": "Python 3 (ipykernel)",
      "language": "python",
      "name": "python3"
    },
    "language_info": {
      "codemirror_mode": {
        "name": "ipython",
        "version": 3
      },
      "file_extension": ".py",
      "mimetype": "text/x-python",
      "name": "python",
      "nbconvert_exporter": "python",
      "pygments_lexer": "ipython3",
      "version": "3.13.2"
    },
    "colab": {
      "provenance": [],
      "include_colab_link": true
    }
  },
  "nbformat": 4,
  "nbformat_minor": 0
}