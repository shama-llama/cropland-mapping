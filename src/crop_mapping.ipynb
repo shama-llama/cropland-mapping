{
  "cells": [
    {
      "cell_type": "markdown",
      "metadata": {
        "id": "view-in-github",
        "colab_type": "text"
      },
      "source": [
        "<a href=\"https://colab.research.google.com/github/shama-llama/crop-mapping/blob/main/src/crop_mapping.ipynb\" target=\"_parent\"><img src=\"https://colab.research.google.com/assets/colab-badge.svg\" alt=\"Open In Colab\"/></a>"
      ]
    },
    {
      "cell_type": "markdown",
      "metadata": {
        "id": "-762C6yESaA5"
      },
      "source": [
        "# Crop Classification using Convolutional Neural Networks"
      ]
    },
    {
      "cell_type": "markdown",
      "source": [
        "## 1. Initialization"
      ],
      "metadata": {
        "id": "aUvwxHQA5u6i"
      }
    },
    {
      "cell_type": "code",
      "source": [
        "from google.colab import drive\n",
        "drive.mount('/content/drive')"
      ],
      "metadata": {
        "id": "TTQ2tR4zSit1"
      },
      "execution_count": null,
      "outputs": []
    },
    {
      "cell_type": "markdown",
      "metadata": {
        "id": "2eeT2ufwSaA-"
      },
      "source": [
        "### 1.1. Import Libraries"
      ]
    },
    {
      "cell_type": "code",
      "execution_count": null,
      "metadata": {
        "id": "aN7D-57KSaA_"
      },
      "outputs": [],
      "source": [
        "# Importing essential libraries\n",
        "import pandas as pd\n",
        "import matplotlib.pyplot as plt\n",
        "import seaborn as sns\n",
        "from PIL import Image\n",
        "import io\n",
        "import numpy as np\n",
        "\n",
        "# For displaying plots inline\n",
        "%matplotlib inline\n",
        "\n",
        "# Setting a seaborn style for better visuals\n",
        "sns.set(style=\"whitegrid\")"
      ]
    },
    {
      "cell_type": "markdown",
      "metadata": {
        "id": "F18v73qJSaBB"
      },
      "source": [
        "### 1.2. Data Loading & Initial Inspection"
      ]
    },
    {
      "cell_type": "code",
      "execution_count": null,
      "metadata": {
        "id": "bUhQM7QySaBC"
      },
      "outputs": [],
      "source": [
        "# Specify the path to the .parquet file\n",
        "parquet_path = \"/content/drive/MyDrive/projects/crop-mapping-with-deep-learning/crop-mapping/dataset/crop_dataset.parquet\"\n",
        "\n",
        "# Load the dataset into a DataFrame\n",
        "df = pd.read_parquet(parquet_path)\n",
        "print(\"Dataset loaded successfully!\")\n",
        "\n",
        "df.head(5)"
      ]
    },
    {
      "cell_type": "markdown",
      "source": [
        "## 2. Exploratory Data Analysis"
      ],
      "metadata": {
        "id": "ulZ7gtuq6Jjd"
      }
    },
    {
      "cell_type": "markdown",
      "source": [
        "### 2.1. Basic Data Overview"
      ],
      "metadata": {
        "id": "O7FD0UDSdrvW"
      }
    },
    {
      "cell_type": "code",
      "source": [
        "# Display basic information about the dataset\n",
        "print(\"Dataset Shape:\", df.shape)\n",
        "print(\"\\nDataset Columns:\")\n",
        "print(df.columns)"
      ],
      "metadata": {
        "id": "NkImkRkypppZ"
      },
      "execution_count": null,
      "outputs": []
    },
    {
      "cell_type": "code",
      "source": [
        "# Dimensions, info, and summary statistics\n",
        "print(\"Dataset shape:\", df.shape)\n",
        "df.info()\n",
        "print(\"\\nSummary statistics:\")\n",
        "display(df.describe(include='all'))"
      ],
      "metadata": {
        "id": "BvgUdKlidp9j"
      },
      "execution_count": null,
      "outputs": []
    },
    {
      "cell_type": "markdown",
      "source": [
        "### 2.2. Missing Values & Data Types"
      ],
      "metadata": {
        "id": "YFbxbWfrqAzU"
      }
    },
    {
      "cell_type": "code",
      "source": [
        "# Check for missing values in each column\n",
        "print(\"Missing Values by Column:\")\n",
        "print(df.isnull().sum())\n",
        "\n",
        "# Display data types for each column\n",
        "print(\"\\nData Types:\")\n",
        "print(df.dtypes)"
      ],
      "metadata": {
        "id": "dGOtBYD0qG6D"
      },
      "execution_count": null,
      "outputs": []
    },
    {
      "cell_type": "markdown",
      "source": [
        "### 2.3. Map Numerical Labels to Crop Names"
      ],
      "metadata": {
        "id": "-2p3ZbfuqtUw"
      }
    },
    {
      "cell_type": "code",
      "source": [
        "# Define the mapping from numerical labels to crop names\n",
        "label_mapping = {\n",
        "    0: \"BARLEY\",\n",
        "    1: \"CANOLA\",\n",
        "    2: \"CORN\",\n",
        "    3: \"MIXEDWOOD\",\n",
        "    4: \"OAT\",\n",
        "    5: \"ORCHARD\",\n",
        "    6: \"PASTURE\",\n",
        "    7: \"POTATO\",\n",
        "    8: \"SOYBEAN\",\n",
        "    9: \"SPRING_WHEAT\"\n",
        "}\n",
        "\n",
        "# Create a new column 'crop' by mapping the 'label' column\n",
        "df['crop'] = df['label'].map(label_mapping)\n",
        "\n",
        "# Verify the mapping by displaying a few rows\n",
        "df[['label', 'crop']].head()"
      ],
      "metadata": {
        "id": "WQdM-hq-qtxp"
      },
      "execution_count": null,
      "outputs": []
    },
    {
      "cell_type": "markdown",
      "source": [
        "### 2.4. Analyze Class Distribution"
      ],
      "metadata": {
        "id": "rMNNXUUyq6Bd"
      }
    },
    {
      "cell_type": "code",
      "source": [
        "# Count the number of examples for each crop class\n",
        "class_counts = df['crop'].value_counts().sort_index()\n",
        "\n",
        "# Display the counts\n",
        "print(\"Class Distribution:\")\n",
        "print(class_counts)\n",
        "\n",
        "# Plot the class distribution using a bar chart\n",
        "plt.figure(figsize=(10,6))\n",
        "sns.barplot(x=class_counts.index, y=class_counts.values, hue=class_counts.index, palette=\"viridis\", legend=False)\n",
        "plt.title(\"Distribution of Crop Classes\")\n",
        "plt.xlabel(\"Crop Type\")\n",
        "plt.ylabel(\"Number of Examples\")\n",
        "plt.xticks(rotation=90)\n",
        "plt.show()"
      ],
      "metadata": {
        "id": "RLeexVKDq6YZ"
      },
      "execution_count": null,
      "outputs": []
    },
    {
      "cell_type": "markdown",
      "source": [
        "### 2.5. Sample Images with Labels"
      ],
      "metadata": {
        "id": "yldWSalNz-8F"
      }
    },
    {
      "cell_type": "code",
      "source": [
        "# Function to decode and display an image\n",
        "\n",
        "def display_image(image_data):\n",
        "  if isinstance(image_data, dict):\n",
        "  # If the dictionary has a 'bytes' key, use its value as the image data.\n",
        "    if 'bytes' in image_data:\n",
        "      image_data = image_data['bytes']\n",
        "    else:\n",
        "      raise ValueError(\"Dictionary does not contain key 'bytes' for image content.\")\n",
        "\n",
        "    # If image_data is stored as bytes, open it using BytesIO.\n",
        "    if isinstance(image_data, bytes):\n",
        "      img = Image.open(io.BytesIO(image_data))\n",
        "    else:\n",
        "      raise ValueError(f\"Unsupported image data type: {type(image_data)}\")\n",
        "\n",
        "    return img"
      ],
      "metadata": {
        "id": "14N9s2wmsS_a"
      },
      "execution_count": null,
      "outputs": []
    },
    {
      "cell_type": "code",
      "source": [
        "grouped_by_crop = df.groupby('crop')\n",
        "num_images_per_crop = 5\n",
        "\n",
        "for crop_name, crop_group in grouped_by_crop:\n",
        "    print(f\"\\nSample Images for {crop_name}:\")\n",
        "    sample_images = crop_group.sample(min(num_images_per_crop, len(crop_group)), random_state=42)\n",
        "\n",
        "    # Create a grid of subplots\n",
        "    fig, axes = plt.subplots(1, num_images_per_crop, figsize=(10, 5))\n",
        "\n",
        "    # Ensure axes is a list even if num_images_per_crop is 1\n",
        "    if num_images_per_crop == 1:\n",
        "        axes = [axes]\n",
        "\n",
        "    # Display the sampled images\n",
        "    for i, (idx, row) in enumerate(sample_images.iterrows()):\n",
        "        img = display_image(row['image'])\n",
        "\n",
        "        if img is not None:\n",
        "            axes[i].imshow(img)\n",
        "            axes[i].set_title(f\"Index: {idx}\")\n",
        "            axes[i].axis(\"off\")\n",
        "\n",
        "    plt.tight_layout()\n",
        "    plt.show()"
      ],
      "metadata": {
        "id": "wRkIROu00Jfz"
      },
      "execution_count": null,
      "outputs": []
    },
    {
      "cell_type": "markdown",
      "source": [
        "### 2.6. Image Dimension Analysis"
      ],
      "metadata": {
        "id": "8uUKf7ci0hE3"
      }
    },
    {
      "cell_type": "code",
      "source": [
        "# Analyze image dimensions for a random sample (e.g., 100 images)\n",
        "def get_image_size(image_data):\n",
        "    if isinstance(image_data, dict):\n",
        "        if 'bytes' in image_data:\n",
        "            image_data = image_data['bytes']\n",
        "        else:\n",
        "            return (np.nan, np.nan)\n",
        "\n",
        "    if isinstance(image_data, bytes):\n",
        "        try:\n",
        "            img = Image.open(io.BytesIO(image_data))\n",
        "            return img.size\n",
        "        except Exception as e:\n",
        "            return (np.nan, np.nan)\n",
        "    else:\n",
        "        return (np.nan, np.nan)\n",
        "\n",
        "# Sample 100 images to avoid processing the entire dataset\n",
        "sample_df = df.sample(100, random_state=42)\n",
        "dimensions = sample_df['image'].apply(get_image_size)\n",
        "\n",
        "# Convert the list of tuples into two separate lists for widths and heights\n",
        "widths = [dim[0] for dim in dimensions if not np.isnan(dim[0])]\n",
        "heights = [dim[1] for dim in dimensions if not np.isnan(dim[1])]\n",
        "\n",
        "# Display summary statistics side-by-side\n",
        "width_stats = pd.Series(widths).describe()\n",
        "height_stats = pd.Series(heights).describe()\n",
        "\n",
        "# Concatenate the two series horizontally\n",
        "stats_df = pd.concat([width_stats, height_stats], axis=1)\n",
        "stats_df.columns = ['Width Statistics', 'Height Statistics']\n",
        "print(stats_df)"
      ],
      "metadata": {
        "id": "0TE2tgQZt2c5"
      },
      "execution_count": null,
      "outputs": []
    },
    {
      "cell_type": "markdown",
      "source": [
        "## 3. Data Preparation"
      ],
      "metadata": {
        "id": "BWxNoLLV4Iuf"
      }
    },
    {
      "cell_type": "markdown",
      "source": [
        "### 3.1 Import Libraries"
      ],
      "metadata": {
        "id": "MHTpbaspEThO"
      }
    },
    {
      "cell_type": "code",
      "source": [
        "%%capture\n",
        "!pip install pytorch-lightning"
      ],
      "metadata": {
        "id": "MoPDfSpZFBne"
      },
      "execution_count": null,
      "outputs": []
    },
    {
      "cell_type": "code",
      "source": [
        "import torch\n",
        "import torch.nn as nn\n",
        "import torch.optim as optim\n",
        "from torch.utils.data import Dataset, DataLoader\n",
        "from torchvision import transforms, models\n",
        "import pytorch_lightning as pl\n",
        "from pytorch_lightning.callbacks import EarlyStopping\n",
        "from sklearn.metrics import accuracy_score, confusion_matrix\n",
        "from sklearn.model_selection import train_test_split\n",
        "from sklearn.manifold import TSNE"
      ],
      "metadata": {
        "id": "7daVp8YoESIs"
      },
      "execution_count": null,
      "outputs": []
    },
    {
      "cell_type": "markdown",
      "source": [
        "### 3.2. Data Cleaning"
      ],
      "metadata": {
        "id": "paIzHQY4E5YS"
      }
    },
    {
      "cell_type": "code",
      "source": [
        "# Remove Missing Values\n",
        "df_clean = df.dropna(subset=['image', 'label']).copy()\n",
        "print(f\"Rows after dropping missing values: {df_clean.shape[0]}\")\n",
        "\n",
        "# Validate Labels\n",
        "valid_labels = set(label_mapping.keys())\n",
        "\n",
        "df_clean = df_clean[df_clean['label'].isin(valid_labels)]\n",
        "print(f\"Rows after filtering invalid labels: {df_clean.shape[0]}\")\n",
        "\n",
        "# Function to decode and check the image\n",
        "def process_image_data(image_data):\n",
        "    try:\n",
        "        if isinstance(image_data, dict):\n",
        "            if 'bytes' in image_data:\n",
        "                image_data = image_data['bytes']\n",
        "            else:\n",
        "                raise ValueError(\"Dictionary does not contain key 'bytes' for image content.\")\n",
        "\n",
        "        if isinstance(image_data, bytes):\n",
        "            img = Image.open(io.BytesIO(image_data))\n",
        "            img = img.convert(\"RGB\")\n",
        "            return img\n",
        "        else:\n",
        "            raise ValueError(f\"Unsupported image data type: {type(image_data)}\")\n",
        "    except Exception as e:\n",
        "        return None\n",
        "\n",
        "df_clean['processed_image'] = df_clean['image'].apply(process_image_data)\n",
        "\n",
        "num_invalid = df_clean['processed_image'].isnull().sum()\n",
        "print(f\"Number of invalid or corrupted images detected: {num_invalid}\")\n",
        "\n",
        "df_clean = df_clean.dropna(subset=['processed_image']).copy()\n",
        "df_clean.drop(columns=['processed_image'], inplace=True)\n",
        "\n",
        "print(f\"Final cleaned dataset has {df_clean.shape[0]} rows.\")"
      ],
      "metadata": {
        "id": "Elhhg7GP6a9O"
      },
      "execution_count": null,
      "outputs": []
    },
    {
      "cell_type": "markdown",
      "source": [
        "### 3.3. Create PyTorch Dataset"
      ],
      "metadata": {
        "id": "rFNzB8NEGJIO"
      }
    },
    {
      "cell_type": "code",
      "source": [
        "class CropDataset(Dataset):\n",
        "    def __init__(self, df_clean, transform=None):\n",
        "        self.df_clean = df_clean\n",
        "        self.transform = transform\n",
        "\n",
        "    def __len__(self):\n",
        "        return len(self.df_clean)\n",
        "\n",
        "    def __getitem__(self, idx):\n",
        "        row = self.df_clean.iloc[idx]\n",
        "        img_data = row['image']['bytes']\n",
        "        image = Image.open(io.BytesIO(img_data)).convert('RGB')\n",
        "        label = row['label']\n",
        "\n",
        "        if self.transform:\n",
        "            image = self.transform(image)\n",
        "\n",
        "        return image, label"
      ],
      "metadata": {
        "id": "Ie8sX_CJGN48"
      },
      "execution_count": null,
      "outputs": []
    },
    {
      "cell_type": "markdown",
      "source": [
        "### 3.4. Data Augmentation"
      ],
      "metadata": {
        "id": "dcjIWvwbUKFa"
      }
    },
    {
      "cell_type": "code",
      "source": [
        "train_transform = transforms.Compose([\n",
        "    transforms.Resize((224, 224)),\n",
        "    transforms.RandomHorizontalFlip(),\n",
        "    transforms.RandomRotation(15),\n",
        "    transforms.ToTensor(),\n",
        "    transforms.Normalize(mean=[0.485, 0.456, 0.406], std=[0.229, 0.224, 0.225])\n",
        "])\n",
        "\n",
        "val_transform = transforms.Compose([\n",
        "    transforms.Resize((224, 224)),\n",
        "    transforms.ToTensor(),\n",
        "    transforms.Normalize(mean=[0.485, 0.456, 0.406], std=[0.229, 0.224, 0.225])\n",
        "])"
      ],
      "metadata": {
        "id": "7iE6rdHFUMmI"
      },
      "execution_count": null,
      "outputs": []
    },
    {
      "cell_type": "markdown",
      "source": [
        "### 3.5. Data Splitting"
      ],
      "metadata": {
        "id": "zJ5UuR92Ggba"
      }
    },
    {
      "cell_type": "code",
      "source": [
        "# Split dataset into train (70%), val (15%), test (15%)\n",
        "train_df, temp_df = train_test_split(\n",
        "    df_clean,\n",
        "    test_size=0.3,\n",
        "    stratify=df['label'],\n",
        "    random_state=42\n",
        ")\n",
        "\n",
        "val_df, test_df = train_test_split(\n",
        "    temp_df,\n",
        "    test_size=0.5,\n",
        "    stratify=temp_df['label'],\n",
        "    random_state=42\n",
        ")\n",
        "\n",
        "# Create datasets\n",
        "train_dataset = CropDataset(train_df, transform=train_transform)\n",
        "val_dataset = CropDataset(val_df, transform=val_transform)\n",
        "test_dataset = CropDataset(test_df, transform=val_transform)\n",
        "\n",
        "# Class balance check\n",
        "print(\"Class distribution:\")\n",
        "print(\"Train samples:\", train_df.shape[0])\n",
        "print(\"Validation samples:\", val_df.shape[0])\n",
        "print(\"Test samples:\", test_df.shape[0])\n",
        "\n",
        "# Create dataloaders\n",
        "BATCH_SIZE = 64\n",
        "train_loader = DataLoader(train_dataset, batch_size=BATCH_SIZE, shuffle=True, num_workers=2)\n",
        "val_loader = DataLoader(val_dataset, batch_size=BATCH_SIZE, shuffle=False, num_workers=2)\n",
        "test_loader = DataLoader(test_dataset, batch_size=BATCH_SIZE, shuffle=False, num_workers=2)"
      ],
      "metadata": {
        "id": "clfT1lHzGmMm"
      },
      "execution_count": null,
      "outputs": []
    },
    {
      "cell_type": "markdown",
      "source": [
        "## 4. Model Selection & Training"
      ],
      "metadata": {
        "id": "BYuyoZPlHEQv"
      }
    },
    {
      "cell_type": "markdown",
      "source": [
        "### 4.1. Model Definition"
      ],
      "metadata": {
        "id": "AXH9V_l0HQbX"
      }
    },
    {
      "cell_type": "code",
      "source": [
        "class CropClassifierCustom(pl.LightningModule):\n",
        "    def __init__(self, num_classes=10):\n",
        "        super().__init__()\n",
        "        self.conv_layers = nn.Sequential(\n",
        "            # Input: 3 x 65 x 65\n",
        "            # 32 x 65 x 65\n",
        "            nn.Conv2d(3, 32, kernel_size=3, padding=1),\n",
        "            nn.BatchNorm2d(32),\n",
        "            nn.ReLU(),\n",
        "            # 32 x 32 x 32\n",
        "            nn.MaxPool2d(2),\n",
        "\n",
        "            # 64 x 32 x 32\n",
        "            nn.Conv2d(32, 64, kernel_size=3, padding=1),\n",
        "            nn.BatchNorm2d(64),\n",
        "            nn.ReLU(),\n",
        "            # 64 x 16 x 16\n",
        "            nn.MaxPool2d(2),\n",
        "\n",
        "            # 128 x 16 x 16\n",
        "            nn.Conv2d(64, 128, kernel_size=3, padding=1),\n",
        "            nn.BatchNorm2d(128),\n",
        "            nn.ReLU(),\n",
        "            # 128 x 8 x 8\n",
        "            nn.MaxPool2d(2),\n",
        "\n",
        "            # 256 x 8 x 8\n",
        "            nn.Conv2d(128, 256, kernel_size=3, padding=1),\n",
        "            nn.BatchNorm2d(256),\n",
        "            nn.ReLU(),\n",
        "            # 256 x 4 x 4\n",
        "            nn.MaxPool2d(2)\n",
        "        )\n",
        "        self.fc_layers = nn.Sequential(\n",
        "            nn.Dropout(0.5),\n",
        "            nn.Linear(256 * 4 * 4, 512),\n",
        "            nn.ReLU(),\n",
        "            nn.Dropout(0.5),\n",
        "            nn.Linear(512, num_classes)\n",
        "        )\n",
        "        self.criterion = nn.CrossEntropyLoss()\n",
        "\n",
        "    def forward(self, x):\n",
        "        x = self.conv_layers(x)\n",
        "        # For feature analysis, we can save the last convolutional feature map.\n",
        "        self.features = x\n",
        "        x = x.view(x.size(0), -1)\n",
        "        x = self.fc_layers(x)\n",
        "        return x\n",
        "\n",
        "    def training_step(self, batch, batch_idx):\n",
        "        x, y = batch\n",
        "        logits = self(x)\n",
        "        loss = self.criterion(logits, y)\n",
        "        self.log('train_loss', loss, on_step=False, on_epoch=True, prog_bar=True)\n",
        "        return loss\n",
        "\n",
        "    def validation_step(self, batch, batch_idx):\n",
        "        x, y = batch\n",
        "        logits = self(x)\n",
        "        loss = self.criterion(logits, y)\n",
        "        preds = torch.argmax(logits, dim=1)\n",
        "        acc = accuracy_score(y.cpu(), preds.cpu())\n",
        "        self.log('val_loss', loss, prog_bar=True)\n",
        "        self.log('val_acc', acc, prog_bar=True)\n",
        "        return {\"loss\": loss, \"preds\": preds, \"targets\": y}\n",
        "\n",
        "    def test_step(self, batch, batch_idx):\n",
        "        x, y = batch\n",
        "        logits = self(x)\n",
        "        loss = self.criterion(logits, y)\n",
        "        preds = torch.argmax(logits, dim=1)\n",
        "        acc = accuracy_score(y.cpu(), preds.cpu())\n",
        "        self.log('test_loss', loss, prog_bar=True)\n",
        "        self.log('test_acc', acc, prog_bar=True)\n",
        "        return {\"loss\": loss, \"preds\": preds, \"targets\": y}\n",
        "\n",
        "    def configure_optimizers(self):\n",
        "        optimizer = optim.Adam(self.parameters(), lr=1e-3)\n",
        "        scheduler = optim.lr_scheduler.ReduceLROnPlateau(optimizer, patience=2)\n",
        "        return {\n",
        "            \"optimizer\": optimizer,\n",
        "            \"lr_scheduler\": {\n",
        "                \"scheduler\": scheduler,\n",
        "                \"monitor\": \"val_loss\",\n",
        "            },\n",
        "        }"
      ],
      "metadata": {
        "id": "zKGk1W24HJBG"
      },
      "execution_count": null,
      "outputs": []
    },
    {
      "cell_type": "markdown",
      "source": [
        "### 4.2. Model Training"
      ],
      "metadata": {
        "id": "omxTKYsSHK-q"
      }
    },
    {
      "cell_type": "code",
      "source": [
        "early_stop = EarlyStopping(\n",
        "    monitor='val_loss',\n",
        "    patience=5,\n",
        "    verbose=True,\n",
        "    mode='min'\n",
        ")\n",
        "\n",
        "trainer = pl.Trainer(\n",
        "    max_epochs=20,\n",
        "    callbacks=[early_stop],\n",
        "    accelerator='auto',\n",
        "    devices=1 if torch.cuda.is_available() else None,\n",
        "    deterministic=True\n",
        ")\n",
        "\n",
        "model = CropClassifierCustom(num_classes=10)\n",
        "trainer.fit(model, train_loader, val_loader)"
      ],
      "metadata": {
        "id": "oQiNRLDzHX_B"
      },
      "execution_count": null,
      "outputs": []
    },
    {
      "cell_type": "markdown",
      "source": [
        "### 4.3. Model Evaluation"
      ],
      "metadata": {
        "id": "am2Zvqi_IFZR"
      }
    },
    {
      "cell_type": "code",
      "source": [
        "# Evaluate on validation set\n",
        "val_results = trainer.validate(model, val_loader)\n",
        "print(\"Validation results:\", val_results)"
      ],
      "metadata": {
        "id": "4DxrkxW1IJOd"
      },
      "execution_count": null,
      "outputs": []
    },
    {
      "cell_type": "markdown",
      "source": [
        "## 5. Evaluation on Test Set with Visualization"
      ],
      "metadata": {
        "id": "NtGTKkvSc4Sj"
      }
    },
    {
      "cell_type": "code",
      "source": [
        "# Evaluate on test set\n",
        "test_results = trainer.test(model, test_loader)\n",
        "print(\"Test results:\", test_results)\n",
        "\n",
        "# Confusion Matrix on Test Set\n",
        "all_preds = []\n",
        "all_targets = []\n",
        "\n",
        "model.eval()\n",
        "with torch.no_grad():\n",
        "    for batch in test_loader:\n",
        "        x, y = batch\n",
        "        logits = model(x)\n",
        "        preds = torch.argmax(logits, dim=1)\n",
        "        all_preds.extend(preds.cpu().numpy())\n",
        "        all_targets.extend(y.cpu().numpy())\n",
        "\n",
        "cm = confusion_matrix(all_targets, all_preds)\n",
        "plt.figure(figsize=(8, 6))\n",
        "sns.heatmap(cm, annot=True, fmt=\"d\", cmap=\"Blues\",\n",
        "            xticklabels=list(range(10)), yticklabels=list(range(10)))\n",
        "plt.xlabel(\"Predicted\")\n",
        "plt.ylabel(\"True\")\n",
        "plt.title(\"Confusion Matrix on Test Set\")\n",
        "plt.show()"
      ],
      "metadata": {
        "id": "bLaOygGCdDRX"
      },
      "execution_count": null,
      "outputs": []
    },
    {
      "cell_type": "markdown",
      "source": [
        "## 6. Feature Analysis using t-SNE"
      ],
      "metadata": {
        "id": "IUhwR_4YdOBQ"
      }
    },
    {
      "cell_type": "code",
      "source": [
        "# Extract features from a subset of the test set for visualization\n",
        "features_list = []\n",
        "labels_list = []\n",
        "\n",
        "model.eval()\n",
        "with torch.no_grad():\n",
        "    for batch in test_loader:\n",
        "        x, y = batch\n",
        "        _ = model(x)\n",
        "        # Forward pass to update self.features\n",
        "\n",
        "        # Flatten the spatial dimensions for each sample\n",
        "        features = model.features.view(x.size(0), -1)\n",
        "        features_list.append(features.cpu())\n",
        "        labels_list.append(y.cpu())\n",
        "\n",
        "features_all = torch.cat(features_list).numpy()\n",
        "labels_all = torch.cat(labels_list).numpy()\n",
        "\n",
        "# Apply t-SNE\n",
        "tsne = TSNE(n_components=2, random_state=42)\n",
        "features_2d = tsne.fit_transform(features_all)\n",
        "\n",
        "# Plot t-SNE result\n",
        "plt.figure(figsize=(10, 8))\n",
        "scatter = plt.scatter(features_2d[:, 0], features_2d[:, 1], c=labels_all, cmap='tab10', alpha=0.7)\n",
        "plt.legend(*scatter.legend_elements(), title=\"Classes\")\n",
        "plt.title(\"t-SNE Visualization of Deep Features\")\n",
        "plt.xlabel(\"t-SNE Component 1\")\n",
        "plt.ylabel(\"t-SNE Component 2\")\n",
        "plt.show()"
      ],
      "metadata": {
        "id": "vL6pAgObdSOM"
      },
      "execution_count": null,
      "outputs": []
    }
  ],
  "metadata": {
    "kernelspec": {
      "display_name": "Python 3",
      "name": "python3"
    },
    "language_info": {
      "codemirror_mode": {
        "name": "ipython",
        "version": 3
      },
      "file_extension": ".py",
      "mimetype": "text/x-python",
      "name": "python",
      "nbconvert_exporter": "python",
      "pygments_lexer": "ipython3",
      "version": "3.13.2"
    },
    "colab": {
      "provenance": [],
      "gpuType": "T4",
      "include_colab_link": true
    },
    "accelerator": "GPU"
  },
  "nbformat": 4,
  "nbformat_minor": 0
}