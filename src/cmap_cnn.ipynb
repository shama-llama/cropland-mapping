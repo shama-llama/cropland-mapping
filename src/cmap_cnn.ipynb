{
  "cells": [
    {
      "cell_type": "markdown",
      "metadata": {
        "id": "view-in-github",
        "colab_type": "text"
      },
      "source": [
        "<a href=\"https://colab.research.google.com/github/shama-llama/crop-mapping/blob/main/src/cmap_cnn.ipynb\" target=\"_parent\"><img src=\"https://colab.research.google.com/assets/colab-badge.svg\" alt=\"Open In Colab\"/></a>"
      ]
    },
    {
      "cell_type": "markdown",
      "metadata": {
        "id": "zO2xu0KNt48W"
      },
      "source": [
        "## Crop Mapping with Deep Learning"
      ]
    },
    {
      "cell_type": "code",
      "execution_count": 18,
      "metadata": {
        "id": "K06M5Q0Pwbdq",
        "colab": {
          "base_uri": "https://localhost:8080/"
        },
        "outputId": "18940a95-39c0-456b-daee-579ab0d843b6"
      },
      "outputs": [
        {
          "output_type": "stream",
          "name": "stdout",
          "text": [
            "Drive already mounted at /content/drive; to attempt to forcibly remount, call drive.mount(\"/content/drive\", force_remount=True).\n"
          ]
        }
      ],
      "source": [
        "from google.colab import drive\n",
        "drive.mount('/content/drive')"
      ]
    },
    {
      "cell_type": "markdown",
      "metadata": {
        "id": "hMmPY1jlt48b"
      },
      "source": [
        "### Import Libraries"
      ]
    },
    {
      "cell_type": "code",
      "execution_count": 19,
      "metadata": {
        "id": "KrbLtLBFt48d"
      },
      "outputs": [],
      "source": [
        "import io\n",
        "import h5py\n",
        "import random\n",
        "import numpy as np\n",
        "import matplotlib.pyplot as plt\n",
        "from PIL import Image, ImageEnhance\n",
        "from sklearn.model_selection import train_test_split\n",
        "\n",
        "import tensorflow as tf"
      ]
    },
    {
      "cell_type": "markdown",
      "metadata": {
        "id": "nSxxnOHWt48f"
      },
      "source": [
        "### Parameter Configuration"
      ]
    },
    {
      "cell_type": "code",
      "execution_count": 20,
      "metadata": {
        "id": "bUxVTuqst48g"
      },
      "outputs": [],
      "source": [
        "# Dataset parameters\n",
        "hdf5_path = \"/content/drive/MyDrive/projects/crop-mapping-with-deep-learning/crop-mapping/dataset/dataset_ca_17.hdf5\"\n",
        "image_size = (65,65)  # Target size\n",
        "image_height, image_width = image_size\n",
        "# Use only the RGB sensor\n",
        "sensor = \"RGB\"\n",
        "crop_mapping = {\n",
        "    \"BARLEY\": 0,\n",
        "    \"CANOLA\": 1,\n",
        "    \"CORN\": 2,\n",
        "    \"MIXEDWOOD\": 3,\n",
        "    \"OAT\": 4,\n",
        "    \"ORCHARD\": 5,\n",
        "    \"PASTURE\": 6,\n",
        "    \"POTATO\": 7,\n",
        "    \"SOYBEAN\": 8,\n",
        "    \"SPRING_WHEAT\": 9,\n",
        "}\n",
        "\n",
        "# Split parameters\n",
        "test_size = 0.3\n",
        "val_size = 0.15\n",
        "\n",
        "# Augmentation parameters\n",
        "augmentation_params = {\n",
        "    'hflip_prob': 0.5,\n",
        "    'vflip_prob': 0.3,\n",
        "    'rotate_prob': 0.4,\n",
        "    'rotate_range': (-25, 25),\n",
        "    'brightness_range': (0.8, 1.2)\n",
        "}\n",
        "\n",
        "# Training parameters\n",
        "batch_size = 32\n",
        "num_classes = 10\n",
        "input_shape = (image_height, image_width, 3)\n",
        "epochs = 30\n",
        "patience = 5\n",
        "\n",
        "# Set random seed\n",
        "random.seed(42)\n",
        "np.random.seed(42)"
      ]
    },
    {
      "cell_type": "markdown",
      "metadata": {
        "id": "Hf62qJ7Ut48h"
      },
      "source": [
        "### Load and Verify Dataset"
      ]
    },
    {
      "cell_type": "code",
      "execution_count": 21,
      "metadata": {
        "id": "UEk9gmrlt48i"
      },
      "outputs": [],
      "source": [
        "def decode_image(uint8_array):\n",
        "    if uint8_array.size == 0:\n",
        "        return None\n",
        "    image_bytes = uint8_array.tobytes()\n",
        "    try:\n",
        "        image = Image.open(io.BytesIO(image_bytes))\n",
        "        # Ensure image is in RGB format\n",
        "        image = image.convert(\"RGB\")\n",
        "        return image\n",
        "    except Exception as e:\n",
        "        print(\"Error decoding RGB image:\", e)\n",
        "        return None"
      ]
    },
    {
      "cell_type": "code",
      "execution_count": 22,
      "metadata": {
        "id": "IvIfNIPvt48j",
        "colab": {
          "base_uri": "https://localhost:8080/"
        },
        "outputId": "88a3987a-e488-4e86-9e11-0caaf84375ff"
      },
      "outputs": [
        {
          "output_type": "stream",
          "name": "stdout",
          "text": [
            "Loaded 14111 records.\n"
          ]
        }
      ],
      "source": [
        "def load_rgb_records(hdf5_path):\n",
        "    records = []\n",
        "    with h5py.File(hdf5_path, \"r\") as hf:\n",
        "        num_records = hf[\"POINT\"].shape[0]\n",
        "        for idx in range(num_records):\n",
        "            record = {\n",
        "                \"DATE\": hf[\"DATE\"][idx],\n",
        "                \"POINT\": hf[\"POINT\"][idx],\n",
        "                \"REGION\": hf[\"REGION\"][idx],\n",
        "                \"LABEL\": hf[\"LABEL\"][idx],\n",
        "            }\n",
        "            rgb_data = hf[sensor][idx]\n",
        "            record[sensor] = decode_image(rgb_data).resize(image_size)\n",
        "            records.append(record)\n",
        "    return records\n",
        "\n",
        "records = load_rgb_records(hdf5_path)\n",
        "print(\"Loaded\", len(records), \"records.\")"
      ]
    },
    {
      "cell_type": "markdown",
      "metadata": {
        "id": "ygqdKwN9t48l"
      },
      "source": [
        "### Inspect Sample Record"
      ]
    },
    {
      "cell_type": "code",
      "execution_count": 23,
      "metadata": {
        "id": "4XguDmdat48p",
        "colab": {
          "base_uri": "https://localhost:8080/"
        },
        "outputId": "fad47b59-ecbf-47cc-ed28-390b61ace1d3"
      },
      "outputs": [
        {
          "output_type": "stream",
          "name": "stdout",
          "text": [
            "Selected Record Details:\n",
            "LABEL: 8\n",
            "RGB image size: (65, 65)\n"
          ]
        }
      ],
      "source": [
        "selected_record = random.choice(records)\n",
        "print(\"Selected Record Details:\")\n",
        "print(\"LABEL:\", selected_record['LABEL'])\n",
        "\n",
        "if selected_record[sensor]:\n",
        "    print(f\"{sensor} image size:\", selected_record[sensor].size)\n",
        "else:\n",
        "    print(f\"{sensor} image missing.\")"
      ]
    },
    {
      "cell_type": "markdown",
      "metadata": {
        "id": "soWZz3wkt48u"
      },
      "source": [
        "### Prepare Data Arrays"
      ]
    },
    {
      "cell_type": "code",
      "execution_count": 24,
      "metadata": {
        "id": "mBvEyXkst48s"
      },
      "outputs": [],
      "source": [
        "# Change image into numpy array\n",
        "def preprocess_image(image):\n",
        "    return np.array(image)"
      ]
    },
    {
      "cell_type": "code",
      "execution_count": 25,
      "metadata": {
        "id": "-nDcDT8zt48u",
        "colab": {
          "base_uri": "https://localhost:8080/"
        },
        "outputId": "41b71230-a4e5-4dab-8d70-866c9cd87261"
      },
      "outputs": [
        {
          "output_type": "stream",
          "name": "stdout",
          "text": [
            "Total valid records: 14111\n"
          ]
        }
      ],
      "source": [
        "X = []\n",
        "y = []\n",
        "for record in records:\n",
        "    img = record[sensor]\n",
        "    if img is not None:\n",
        "        X.append(preprocess_image(img))\n",
        "        y.append(record[\"LABEL\"])\n",
        "X = np.array(X)\n",
        "y = np.array(y)\n",
        "print(\"Total valid records:\", len(X))"
      ]
    },
    {
      "cell_type": "markdown",
      "metadata": {
        "id": "YFdfkTZTt48v"
      },
      "source": [
        "### Train/Validation/Test Split"
      ]
    },
    {
      "cell_type": "code",
      "execution_count": 26,
      "metadata": {
        "id": "FdmCY_Wct48w",
        "colab": {
          "base_uri": "https://localhost:8080/"
        },
        "outputId": "31bd54d7-1733-4e36-d326-4916dc269af0"
      },
      "outputs": [
        {
          "output_type": "stream",
          "name": "stdout",
          "text": [
            "Train: (9877, 65, 65, 3) Validation: (2117, 65, 65, 3) Test: (2117, 65, 65, 3)\n",
            "\n",
            "Training class distribution:\n",
            "BARLEY: 606 samples (6.14%)\n",
            "CANOLA: 1204 samples (12.19%)\n",
            "CORN: 1025 samples (10.38%)\n",
            "MIXEDWOOD: 685 samples (6.94%)\n",
            "OAT: 405 samples (4.10%)\n",
            "ORCHARD: 1108 samples (11.22%)\n",
            "PASTURE: 1431 samples (14.49%)\n",
            "POTATO: 589 samples (5.96%)\n",
            "SOYBEAN: 1533 samples (15.52%)\n",
            "SPRING_WHEAT: 1291 samples (13.07%)\n",
            "\n",
            "Validation class distribution:\n",
            "BARLEY: 130 samples (6.14%)\n",
            "CANOLA: 258 samples (12.19%)\n",
            "CORN: 220 samples (10.39%)\n",
            "MIXEDWOOD: 147 samples (6.94%)\n",
            "OAT: 86 samples (4.06%)\n",
            "ORCHARD: 237 samples (11.20%)\n",
            "PASTURE: 307 samples (14.50%)\n",
            "POTATO: 126 samples (5.95%)\n",
            "SOYBEAN: 329 samples (15.54%)\n",
            "SPRING_WHEAT: 277 samples (13.08%)\n"
          ]
        }
      ],
      "source": [
        "# First, split 30% of the data for combined validation and test\n",
        "X_train, X_temp, y_train, y_temp = train_test_split(\n",
        "    X, y, test_size=0.30, stratify=y, random_state=42\n",
        ")\n",
        "\n",
        "# Then, split the temporary set equally to get 15% validation and 15% test each\n",
        "X_val, X_test, y_val, y_test = train_test_split(\n",
        "    X_temp, y_temp, test_size=0.5, stratify=y_temp, random_state=42\n",
        ")\n",
        "\n",
        "print(\"Train:\", X_train.shape, \"Validation:\",\n",
        "      X_val.shape, \"Test:\", X_test.shape)\n",
        "\n",
        "# Check class distribution in splits\n",
        "def analyze_distribution(y, set_name):\n",
        "    unique, counts = np.unique(y, return_counts=True)\n",
        "    print(f\"\\n{set_name} class distribution:\")\n",
        "    for cls, count in zip(unique, counts):\n",
        "        cls_name = list(crop_mapping.keys())[cls]\n",
        "        print(f\"{cls_name}: {count} samples ({count/len(y):.2%})\")\n",
        "\n",
        "analyze_distribution(y_train, \"Training\")\n",
        "analyze_distribution(y_val, \"Validation\")"
      ]
    },
    {
      "cell_type": "markdown",
      "metadata": {
        "id": "Ma1td4Iit48w"
      },
      "source": [
        "###  TensorFlow Dataset Pipeline"
      ]
    },
    {
      "cell_type": "code",
      "execution_count": 56,
      "metadata": {
        "id": "qyX22biOt48x"
      },
      "outputs": [],
      "source": [
        "def create_dataset(X, y, augment=False):\n",
        "    # Convert numpy arrays to TensorFlow dataset\n",
        "    y = tf.keras.utils.to_categorical(y, num_classes=num_classes)\n",
        "    dataset = tf.data.Dataset.from_tensor_slices((X, y))\n",
        "\n",
        "    # Standard preprocessing (applied to all datasets)\n",
        "    def _base_preprocess(image, label):\n",
        "        # Ensure image is float32 in [0,1]\n",
        "        image = tf.image.convert_image_dtype(image, tf.float32)\n",
        "        return image, label\n",
        "\n",
        "    # Augmentation pipeline (only for training)\n",
        "    def _augment(image, label):\n",
        "        # Random horizontal flip\n",
        "        image = tf.image.random_flip_left_right(image)\n",
        "\n",
        "        # Random brightness\n",
        "        image = tf.image.random_brightness(image, max_delta=0.2)\n",
        "\n",
        "        return image, label\n",
        "\n",
        "    # Apply preprocessing\n",
        "    dataset = dataset.map(_base_preprocess, num_parallel_calls=tf.data.AUTOTUNE)\n",
        "\n",
        "    # Apply augmentations if needed\n",
        "    if augment:\n",
        "        dataset = dataset.map(_augment, num_parallel_calls=tf.data.AUTOTUNE)\n",
        "\n",
        "    # Optimize dataset performance\n",
        "    return dataset.shuffle(1000, reshuffle_each_iteration=True).batch(batch_size).prefetch(tf.data.AUTOTUNE)\n",
        "\n",
        "train_dataset = create_dataset(X_train, y_train, augment=True)\n",
        "val_dataset = create_dataset(X_val, y_val, augment=False)\n",
        "test_dataset = create_dataset(X_test, y_test, augment=False)"
      ]
    },
    {
      "cell_type": "markdown",
      "metadata": {
        "id": "wm9voayft48x"
      },
      "source": [
        "### Model Definition"
      ]
    },
    {
      "cell_type": "code",
      "execution_count": 57,
      "metadata": {
        "colab": {
          "base_uri": "https://localhost:8080/",
          "height": 558
        },
        "id": "0fyvWXXzt48z",
        "outputId": "3627285b-3735-4a3a-e089-e6b7d606ec60"
      },
      "outputs": [
        {
          "output_type": "stream",
          "name": "stderr",
          "text": [
            "/usr/local/lib/python3.11/dist-packages/keras/src/layers/convolutional/base_conv.py:107: UserWarning: Do not pass an `input_shape`/`input_dim` argument to a layer. When using Sequential models, prefer using an `Input(shape)` object as the first layer in the model instead.\n",
            "  super().__init__(activity_regularizer=activity_regularizer, **kwargs)\n"
          ]
        },
        {
          "output_type": "display_data",
          "data": {
            "text/plain": [
              "\u001b[1mModel: \"sequential_3\"\u001b[0m\n"
            ],
            "text/html": [
              "<pre style=\"white-space:pre;overflow-x:auto;line-height:normal;font-family:Menlo,'DejaVu Sans Mono',consolas,'Courier New',monospace\"><span style=\"font-weight: bold\">Model: \"sequential_3\"</span>\n",
              "</pre>\n"
            ]
          },
          "metadata": {}
        },
        {
          "output_type": "display_data",
          "data": {
            "text/plain": [
              "┏━━━━━━━━━━━━━━━━━━━━━━━━━━━━━━━━━━━━━━┳━━━━━━━━━━━━━━━━━━━━━━━━━━━━━┳━━━━━━━━━━━━━━━━━┓\n",
              "┃\u001b[1m \u001b[0m\u001b[1mLayer (type)                        \u001b[0m\u001b[1m \u001b[0m┃\u001b[1m \u001b[0m\u001b[1mOutput Shape               \u001b[0m\u001b[1m \u001b[0m┃\u001b[1m \u001b[0m\u001b[1m        Param #\u001b[0m\u001b[1m \u001b[0m┃\n",
              "┡━━━━━━━━━━━━━━━━━━━━━━━━━━━━━━━━━━━━━━╇━━━━━━━━━━━━━━━━━━━━━━━━━━━━━╇━━━━━━━━━━━━━━━━━┩\n",
              "│ conv2d_12 (\u001b[38;5;33mConv2D\u001b[0m)                   │ (\u001b[38;5;45mNone\u001b[0m, \u001b[38;5;34m62\u001b[0m, \u001b[38;5;34m62\u001b[0m, \u001b[38;5;34m32\u001b[0m)          │             \u001b[38;5;34m896\u001b[0m │\n",
              "├──────────────────────────────────────┼─────────────────────────────┼─────────────────┤\n",
              "│ max_pooling2d_12 (\u001b[38;5;33mMaxPooling2D\u001b[0m)      │ (\u001b[38;5;45mNone\u001b[0m, \u001b[38;5;34m31\u001b[0m, \u001b[38;5;34m31\u001b[0m, \u001b[38;5;34m32\u001b[0m)          │               \u001b[38;5;34m0\u001b[0m │\n",
              "├──────────────────────────────────────┼─────────────────────────────┼─────────────────┤\n",
              "│ conv2d_13 (\u001b[38;5;33mConv2D\u001b[0m)                   │ (\u001b[38;5;45mNone\u001b[0m, \u001b[38;5;34m29\u001b[0m, \u001b[38;5;34m29\u001b[0m, \u001b[38;5;34m64\u001b[0m)          │          \u001b[38;5;34m18,496\u001b[0m │\n",
              "├──────────────────────────────────────┼─────────────────────────────┼─────────────────┤\n",
              "│ max_pooling2d_13 (\u001b[38;5;33mMaxPooling2D\u001b[0m)      │ (\u001b[38;5;45mNone\u001b[0m, \u001b[38;5;34m14\u001b[0m, \u001b[38;5;34m14\u001b[0m, \u001b[38;5;34m64\u001b[0m)          │               \u001b[38;5;34m0\u001b[0m │\n",
              "├──────────────────────────────────────┼─────────────────────────────┼─────────────────┤\n",
              "│ conv2d_14 (\u001b[38;5;33mConv2D\u001b[0m)                   │ (\u001b[38;5;45mNone\u001b[0m, \u001b[38;5;34m12\u001b[0m, \u001b[38;5;34m12\u001b[0m, \u001b[38;5;34m128\u001b[0m)         │          \u001b[38;5;34m73,856\u001b[0m │\n",
              "├──────────────────────────────────────┼─────────────────────────────┼─────────────────┤\n",
              "│ max_pooling2d_14 (\u001b[38;5;33mMaxPooling2D\u001b[0m)      │ (\u001b[38;5;45mNone\u001b[0m, \u001b[38;5;34m6\u001b[0m, \u001b[38;5;34m6\u001b[0m, \u001b[38;5;34m128\u001b[0m)           │               \u001b[38;5;34m0\u001b[0m │\n",
              "├──────────────────────────────────────┼─────────────────────────────┼─────────────────┤\n",
              "│ conv2d_15 (\u001b[38;5;33mConv2D\u001b[0m)                   │ (\u001b[38;5;45mNone\u001b[0m, \u001b[38;5;34m4\u001b[0m, \u001b[38;5;34m4\u001b[0m, \u001b[38;5;34m128\u001b[0m)           │         \u001b[38;5;34m147,584\u001b[0m │\n",
              "├──────────────────────────────────────┼─────────────────────────────┼─────────────────┤\n",
              "│ max_pooling2d_15 (\u001b[38;5;33mMaxPooling2D\u001b[0m)      │ (\u001b[38;5;45mNone\u001b[0m, \u001b[38;5;34m2\u001b[0m, \u001b[38;5;34m2\u001b[0m, \u001b[38;5;34m128\u001b[0m)           │               \u001b[38;5;34m0\u001b[0m │\n",
              "├──────────────────────────────────────┼─────────────────────────────┼─────────────────┤\n",
              "│ flatten_3 (\u001b[38;5;33mFlatten\u001b[0m)                  │ (\u001b[38;5;45mNone\u001b[0m, \u001b[38;5;34m512\u001b[0m)                 │               \u001b[38;5;34m0\u001b[0m │\n",
              "├──────────────────────────────────────┼─────────────────────────────┼─────────────────┤\n",
              "│ dense_11 (\u001b[38;5;33mDense\u001b[0m)                     │ (\u001b[38;5;45mNone\u001b[0m, \u001b[38;5;34m512\u001b[0m)                 │         \u001b[38;5;34m262,656\u001b[0m │\n",
              "├──────────────────────────────────────┼─────────────────────────────┼─────────────────┤\n",
              "│ dense_12 (\u001b[38;5;33mDense\u001b[0m)                     │ (\u001b[38;5;45mNone\u001b[0m, \u001b[38;5;34m10\u001b[0m)                  │           \u001b[38;5;34m5,130\u001b[0m │\n",
              "└──────────────────────────────────────┴─────────────────────────────┴─────────────────┘\n"
            ],
            "text/html": [
              "<pre style=\"white-space:pre;overflow-x:auto;line-height:normal;font-family:Menlo,'DejaVu Sans Mono',consolas,'Courier New',monospace\">┏━━━━━━━━━━━━━━━━━━━━━━━━━━━━━━━━━━━━━━┳━━━━━━━━━━━━━━━━━━━━━━━━━━━━━┳━━━━━━━━━━━━━━━━━┓\n",
              "┃<span style=\"font-weight: bold\"> Layer (type)                         </span>┃<span style=\"font-weight: bold\"> Output Shape                </span>┃<span style=\"font-weight: bold\">         Param # </span>┃\n",
              "┡━━━━━━━━━━━━━━━━━━━━━━━━━━━━━━━━━━━━━━╇━━━━━━━━━━━━━━━━━━━━━━━━━━━━━╇━━━━━━━━━━━━━━━━━┩\n",
              "│ conv2d_12 (<span style=\"color: #0087ff; text-decoration-color: #0087ff\">Conv2D</span>)                   │ (<span style=\"color: #00d7ff; text-decoration-color: #00d7ff\">None</span>, <span style=\"color: #00af00; text-decoration-color: #00af00\">62</span>, <span style=\"color: #00af00; text-decoration-color: #00af00\">62</span>, <span style=\"color: #00af00; text-decoration-color: #00af00\">32</span>)          │             <span style=\"color: #00af00; text-decoration-color: #00af00\">896</span> │\n",
              "├──────────────────────────────────────┼─────────────────────────────┼─────────────────┤\n",
              "│ max_pooling2d_12 (<span style=\"color: #0087ff; text-decoration-color: #0087ff\">MaxPooling2D</span>)      │ (<span style=\"color: #00d7ff; text-decoration-color: #00d7ff\">None</span>, <span style=\"color: #00af00; text-decoration-color: #00af00\">31</span>, <span style=\"color: #00af00; text-decoration-color: #00af00\">31</span>, <span style=\"color: #00af00; text-decoration-color: #00af00\">32</span>)          │               <span style=\"color: #00af00; text-decoration-color: #00af00\">0</span> │\n",
              "├──────────────────────────────────────┼─────────────────────────────┼─────────────────┤\n",
              "│ conv2d_13 (<span style=\"color: #0087ff; text-decoration-color: #0087ff\">Conv2D</span>)                   │ (<span style=\"color: #00d7ff; text-decoration-color: #00d7ff\">None</span>, <span style=\"color: #00af00; text-decoration-color: #00af00\">29</span>, <span style=\"color: #00af00; text-decoration-color: #00af00\">29</span>, <span style=\"color: #00af00; text-decoration-color: #00af00\">64</span>)          │          <span style=\"color: #00af00; text-decoration-color: #00af00\">18,496</span> │\n",
              "├──────────────────────────────────────┼─────────────────────────────┼─────────────────┤\n",
              "│ max_pooling2d_13 (<span style=\"color: #0087ff; text-decoration-color: #0087ff\">MaxPooling2D</span>)      │ (<span style=\"color: #00d7ff; text-decoration-color: #00d7ff\">None</span>, <span style=\"color: #00af00; text-decoration-color: #00af00\">14</span>, <span style=\"color: #00af00; text-decoration-color: #00af00\">14</span>, <span style=\"color: #00af00; text-decoration-color: #00af00\">64</span>)          │               <span style=\"color: #00af00; text-decoration-color: #00af00\">0</span> │\n",
              "├──────────────────────────────────────┼─────────────────────────────┼─────────────────┤\n",
              "│ conv2d_14 (<span style=\"color: #0087ff; text-decoration-color: #0087ff\">Conv2D</span>)                   │ (<span style=\"color: #00d7ff; text-decoration-color: #00d7ff\">None</span>, <span style=\"color: #00af00; text-decoration-color: #00af00\">12</span>, <span style=\"color: #00af00; text-decoration-color: #00af00\">12</span>, <span style=\"color: #00af00; text-decoration-color: #00af00\">128</span>)         │          <span style=\"color: #00af00; text-decoration-color: #00af00\">73,856</span> │\n",
              "├──────────────────────────────────────┼─────────────────────────────┼─────────────────┤\n",
              "│ max_pooling2d_14 (<span style=\"color: #0087ff; text-decoration-color: #0087ff\">MaxPooling2D</span>)      │ (<span style=\"color: #00d7ff; text-decoration-color: #00d7ff\">None</span>, <span style=\"color: #00af00; text-decoration-color: #00af00\">6</span>, <span style=\"color: #00af00; text-decoration-color: #00af00\">6</span>, <span style=\"color: #00af00; text-decoration-color: #00af00\">128</span>)           │               <span style=\"color: #00af00; text-decoration-color: #00af00\">0</span> │\n",
              "├──────────────────────────────────────┼─────────────────────────────┼─────────────────┤\n",
              "│ conv2d_15 (<span style=\"color: #0087ff; text-decoration-color: #0087ff\">Conv2D</span>)                   │ (<span style=\"color: #00d7ff; text-decoration-color: #00d7ff\">None</span>, <span style=\"color: #00af00; text-decoration-color: #00af00\">4</span>, <span style=\"color: #00af00; text-decoration-color: #00af00\">4</span>, <span style=\"color: #00af00; text-decoration-color: #00af00\">128</span>)           │         <span style=\"color: #00af00; text-decoration-color: #00af00\">147,584</span> │\n",
              "├──────────────────────────────────────┼─────────────────────────────┼─────────────────┤\n",
              "│ max_pooling2d_15 (<span style=\"color: #0087ff; text-decoration-color: #0087ff\">MaxPooling2D</span>)      │ (<span style=\"color: #00d7ff; text-decoration-color: #00d7ff\">None</span>, <span style=\"color: #00af00; text-decoration-color: #00af00\">2</span>, <span style=\"color: #00af00; text-decoration-color: #00af00\">2</span>, <span style=\"color: #00af00; text-decoration-color: #00af00\">128</span>)           │               <span style=\"color: #00af00; text-decoration-color: #00af00\">0</span> │\n",
              "├──────────────────────────────────────┼─────────────────────────────┼─────────────────┤\n",
              "│ flatten_3 (<span style=\"color: #0087ff; text-decoration-color: #0087ff\">Flatten</span>)                  │ (<span style=\"color: #00d7ff; text-decoration-color: #00d7ff\">None</span>, <span style=\"color: #00af00; text-decoration-color: #00af00\">512</span>)                 │               <span style=\"color: #00af00; text-decoration-color: #00af00\">0</span> │\n",
              "├──────────────────────────────────────┼─────────────────────────────┼─────────────────┤\n",
              "│ dense_11 (<span style=\"color: #0087ff; text-decoration-color: #0087ff\">Dense</span>)                     │ (<span style=\"color: #00d7ff; text-decoration-color: #00d7ff\">None</span>, <span style=\"color: #00af00; text-decoration-color: #00af00\">512</span>)                 │         <span style=\"color: #00af00; text-decoration-color: #00af00\">262,656</span> │\n",
              "├──────────────────────────────────────┼─────────────────────────────┼─────────────────┤\n",
              "│ dense_12 (<span style=\"color: #0087ff; text-decoration-color: #0087ff\">Dense</span>)                     │ (<span style=\"color: #00d7ff; text-decoration-color: #00d7ff\">None</span>, <span style=\"color: #00af00; text-decoration-color: #00af00\">10</span>)                  │           <span style=\"color: #00af00; text-decoration-color: #00af00\">5,130</span> │\n",
              "└──────────────────────────────────────┴─────────────────────────────┴─────────────────┘\n",
              "</pre>\n"
            ]
          },
          "metadata": {}
        },
        {
          "output_type": "display_data",
          "data": {
            "text/plain": [
              "\u001b[1m Total params: \u001b[0m\u001b[38;5;34m508,618\u001b[0m (1.94 MB)\n"
            ],
            "text/html": [
              "<pre style=\"white-space:pre;overflow-x:auto;line-height:normal;font-family:Menlo,'DejaVu Sans Mono',consolas,'Courier New',monospace\"><span style=\"font-weight: bold\"> Total params: </span><span style=\"color: #00af00; text-decoration-color: #00af00\">508,618</span> (1.94 MB)\n",
              "</pre>\n"
            ]
          },
          "metadata": {}
        },
        {
          "output_type": "display_data",
          "data": {
            "text/plain": [
              "\u001b[1m Trainable params: \u001b[0m\u001b[38;5;34m508,618\u001b[0m (1.94 MB)\n"
            ],
            "text/html": [
              "<pre style=\"white-space:pre;overflow-x:auto;line-height:normal;font-family:Menlo,'DejaVu Sans Mono',consolas,'Courier New',monospace\"><span style=\"font-weight: bold\"> Trainable params: </span><span style=\"color: #00af00; text-decoration-color: #00af00\">508,618</span> (1.94 MB)\n",
              "</pre>\n"
            ]
          },
          "metadata": {}
        },
        {
          "output_type": "display_data",
          "data": {
            "text/plain": [
              "\u001b[1m Non-trainable params: \u001b[0m\u001b[38;5;34m0\u001b[0m (0.00 B)\n"
            ],
            "text/html": [
              "<pre style=\"white-space:pre;overflow-x:auto;line-height:normal;font-family:Menlo,'DejaVu Sans Mono',consolas,'Courier New',monospace\"><span style=\"font-weight: bold\"> Non-trainable params: </span><span style=\"color: #00af00; text-decoration-color: #00af00\">0</span> (0.00 B)\n",
              "</pre>\n"
            ]
          },
          "metadata": {}
        }
      ],
      "source": [
        "from tensorflow.keras import layers, models\n",
        "from tensorflow.keras.optimizers import Adam\n",
        "from tensorflow.keras.layers import Dropout, Conv2D, MaxPooling2D, Flatten, Dense, Activation\n",
        "\n",
        "# Create the model\n",
        "model = models.Sequential()\n",
        "\n",
        "model.add(Conv2D(32,(3,3),input_shape=(64,64,3)))\n",
        "model.add(Activation('relu'))\n",
        "model.add(MaxPooling2D((2, 2)))\n",
        "\n",
        "model.add(Conv2D(32, (3, 3)))\n",
        "model.add(Activation('relu'))\n",
        "model.add(MaxPooling2D((2, 2)))\n",
        "\n",
        "model.add(Conv2D(64, (3, 3)))\n",
        "model.add(Activation('relu'))\n",
        "model.add(MaxPooling2D((2, 2)))\n",
        "model.add(Dropout(0.5))\n",
        "\n",
        "model.add(Flatten())\n",
        "model.add(Dense(128))\n",
        "model.add(Activation('relu'))\n",
        "model.add(Dropout(0.5))\n",
        "\n",
        "model.add(Dense(10))\n",
        "model.add(Activation('softmax'))\n",
        "\n",
        "# Compile the model\n",
        "model.compile(Adam (lr=.0001),\n",
        "              loss=\"categorical_crossentropy\",\n",
        "              metrics=[\"accuracy\"])\n",
        "\n",
        "model.summary()"
      ]
    },
    {
      "cell_type": "markdown",
      "source": [
        "### Class Weight Calculation"
      ],
      "metadata": {
        "id": "PniSBoEUSXCR"
      }
    },
    {
      "cell_type": "code",
      "source": [
        "from sklearn.utils import class_weight\n",
        "\n",
        "# Verify and calculate class weights\n",
        "class_weights = class_weight.compute_class_weight(\n",
        "    'balanced',\n",
        "    classes=np.unique(y_train),\n",
        "    y=y_train\n",
        ")\n",
        "class_weights = {i:w for i,w in enumerate(class_weights)}\n",
        "\n",
        "print(\"Final Class Weights:\")\n",
        "for cls_idx, weight in class_weights.items():\n",
        "    cls_name = list(crop_mapping.keys())[cls_idx]\n",
        "    print(f\"{cls_name}: {weight:.2f}\")"
      ],
      "metadata": {
        "colab": {
          "base_uri": "https://localhost:8080/"
        },
        "id": "NQgh1rFujoYw",
        "outputId": "152a759d-3701-4841-e3c5-1630e92a8315"
      },
      "execution_count": 58,
      "outputs": [
        {
          "output_type": "stream",
          "name": "stdout",
          "text": [
            "Final Class Weights:\n",
            "BARLEY: 1.63\n",
            "CANOLA: 0.82\n",
            "CORN: 0.96\n",
            "MIXEDWOOD: 1.44\n",
            "OAT: 2.44\n",
            "ORCHARD: 0.89\n",
            "PASTURE: 0.69\n",
            "POTATO: 1.68\n",
            "SOYBEAN: 0.64\n",
            "SPRING_WHEAT: 0.77\n"
          ]
        }
      ]
    },
    {
      "cell_type": "markdown",
      "source": [
        "### Model Training"
      ],
      "metadata": {
        "id": "RfyyXfR8SeEV"
      }
    },
    {
      "cell_type": "code",
      "execution_count": 59,
      "metadata": {
        "colab": {
          "base_uri": "https://localhost:8080/"
        },
        "id": "7SIC1po95QGV",
        "outputId": "8064aabf-c98d-4bbb-9060-4ff6585b521f"
      },
      "outputs": [
        {
          "output_type": "stream",
          "name": "stdout",
          "text": [
            "Epoch 1/30\n",
            "\u001b[1m309/309\u001b[0m \u001b[32m━━━━━━━━━━━━━━━━━━━━\u001b[0m\u001b[37m\u001b[0m \u001b[1m95s\u001b[0m 296ms/step - accuracy: 0.1812 - loss: 2.1697 - val_accuracy: 0.3155 - val_loss: 1.8416\n",
            "Epoch 2/30\n",
            "\u001b[1m309/309\u001b[0m \u001b[32m━━━━━━━━━━━━━━━━━━━━\u001b[0m\u001b[37m\u001b[0m \u001b[1m88s\u001b[0m 286ms/step - accuracy: 0.3073 - loss: 1.8351 - val_accuracy: 0.3349 - val_loss: 1.8378\n",
            "Epoch 3/30\n",
            "\u001b[1m309/309\u001b[0m \u001b[32m━━━━━━━━━━━━━━━━━━━━\u001b[0m\u001b[37m\u001b[0m \u001b[1m88s\u001b[0m 285ms/step - accuracy: 0.3566 - loss: 1.7347 - val_accuracy: 0.3883 - val_loss: 1.6430\n",
            "Epoch 4/30\n",
            "\u001b[1m309/309\u001b[0m \u001b[32m━━━━━━━━━━━━━━━━━━━━\u001b[0m\u001b[37m\u001b[0m \u001b[1m89s\u001b[0m 287ms/step - accuracy: 0.3740 - loss: 1.6689 - val_accuracy: 0.4053 - val_loss: 1.6281\n",
            "Epoch 5/30\n",
            "\u001b[1m309/309\u001b[0m \u001b[32m━━━━━━━━━━━━━━━━━━━━\u001b[0m\u001b[37m\u001b[0m \u001b[1m137s\u001b[0m 271ms/step - accuracy: 0.3950 - loss: 1.6249 - val_accuracy: 0.4105 - val_loss: 1.5944\n",
            "Epoch 6/30\n",
            "\u001b[1m309/309\u001b[0m \u001b[32m━━━━━━━━━━━━━━━━━━━━\u001b[0m\u001b[37m\u001b[0m \u001b[1m83s\u001b[0m 269ms/step - accuracy: 0.4103 - loss: 1.5890 - val_accuracy: 0.4209 - val_loss: 1.6038\n",
            "Epoch 7/30\n",
            "\u001b[1m309/309\u001b[0m \u001b[32m━━━━━━━━━━━━━━━━━━━━\u001b[0m\u001b[37m\u001b[0m \u001b[1m93s\u001b[0m 301ms/step - accuracy: 0.4103 - loss: 1.5871 - val_accuracy: 0.4209 - val_loss: 1.5830\n",
            "Epoch 8/30\n",
            "\u001b[1m309/309\u001b[0m \u001b[32m━━━━━━━━━━━━━━━━━━━━\u001b[0m\u001b[37m\u001b[0m \u001b[1m148s\u001b[0m 319ms/step - accuracy: 0.4156 - loss: 1.5469 - val_accuracy: 0.4020 - val_loss: 1.6408\n",
            "Epoch 9/30\n",
            "\u001b[1m309/309\u001b[0m \u001b[32m━━━━━━━━━━━━━━━━━━━━\u001b[0m\u001b[37m\u001b[0m \u001b[1m85s\u001b[0m 274ms/step - accuracy: 0.4271 - loss: 1.5062 - val_accuracy: 0.3902 - val_loss: 1.6383\n",
            "Epoch 10/30\n",
            "\u001b[1m309/309\u001b[0m \u001b[32m━━━━━━━━━━━━━━━━━━━━\u001b[0m\u001b[37m\u001b[0m \u001b[1m143s\u001b[0m 277ms/step - accuracy: 0.4280 - loss: 1.5265 - val_accuracy: 0.4034 - val_loss: 1.6009\n",
            "Epoch 11/30\n",
            "\u001b[1m309/309\u001b[0m \u001b[32m━━━━━━━━━━━━━━━━━━━━\u001b[0m\u001b[37m\u001b[0m \u001b[1m83s\u001b[0m 269ms/step - accuracy: 0.4461 - loss: 1.4861 - val_accuracy: 0.4185 - val_loss: 1.5324\n",
            "Epoch 12/30\n",
            "\u001b[1m309/309\u001b[0m \u001b[32m━━━━━━━━━━━━━━━━━━━━\u001b[0m\u001b[37m\u001b[0m \u001b[1m95s\u001b[0m 307ms/step - accuracy: 0.4447 - loss: 1.4253 - val_accuracy: 0.4114 - val_loss: 1.5590\n",
            "Epoch 13/30\n",
            "\u001b[1m309/309\u001b[0m \u001b[32m━━━━━━━━━━━━━━━━━━━━\u001b[0m\u001b[37m\u001b[0m \u001b[1m151s\u001b[0m 338ms/step - accuracy: 0.4630 - loss: 1.3942 - val_accuracy: 0.4360 - val_loss: 1.5278\n",
            "Epoch 14/30\n",
            "\u001b[1m309/309\u001b[0m \u001b[32m━━━━━━━━━━━━━━━━━━━━\u001b[0m\u001b[37m\u001b[0m \u001b[1m140s\u001b[0m 330ms/step - accuracy: 0.4749 - loss: 1.3673 - val_accuracy: 0.4407 - val_loss: 1.4895\n",
            "Epoch 15/30\n",
            "\u001b[1m309/309\u001b[0m \u001b[32m━━━━━━━━━━━━━━━━━━━━\u001b[0m\u001b[37m\u001b[0m \u001b[1m128s\u001b[0m 285ms/step - accuracy: 0.4925 - loss: 1.3447 - val_accuracy: 0.4587 - val_loss: 1.5137\n",
            "Epoch 16/30\n",
            "\u001b[1m309/309\u001b[0m \u001b[32m━━━━━━━━━━━━━━━━━━━━\u001b[0m\u001b[37m\u001b[0m \u001b[1m147s\u001b[0m 301ms/step - accuracy: 0.5088 - loss: 1.2874 - val_accuracy: 0.4379 - val_loss: 1.5577\n",
            "Epoch 17/30\n",
            "\u001b[1m309/309\u001b[0m \u001b[32m━━━━━━━━━━━━━━━━━━━━\u001b[0m\u001b[37m\u001b[0m \u001b[1m134s\u001b[0m 277ms/step - accuracy: 0.5116 - loss: 1.2680 - val_accuracy: 0.4587 - val_loss: 1.5298\n",
            "Epoch 18/30\n",
            "\u001b[1m309/309\u001b[0m \u001b[32m━━━━━━━━━━━━━━━━━━━━\u001b[0m\u001b[37m\u001b[0m \u001b[1m85s\u001b[0m 275ms/step - accuracy: 0.5180 - loss: 1.2293 - val_accuracy: 0.4544 - val_loss: 1.5682\n",
            "Epoch 19/30\n",
            "\u001b[1m309/309\u001b[0m \u001b[32m━━━━━━━━━━━━━━━━━━━━\u001b[0m\u001b[37m\u001b[0m \u001b[1m83s\u001b[0m 268ms/step - accuracy: 0.5453 - loss: 1.1679 - val_accuracy: 0.4648 - val_loss: 1.5485\n"
          ]
        }
      ],
      "source": [
        "from tensorflow.keras.callbacks import EarlyStopping\n",
        "\n",
        "# Add early stopping callback\n",
        "early_stop = tf.keras.callbacks.EarlyStopping(\n",
        "    monitor='val_loss',\n",
        "    patience=patience,\n",
        "    restore_best_weights=True\n",
        ")\n",
        "callbacks = [early_stop]\n",
        "\n",
        "# Train the model with early stopping\n",
        "history = model.fit(\n",
        "    train_dataset,\n",
        "    validation_data=val_dataset,\n",
        "    epochs=epochs,\n",
        "    callbacks=callbacks,\n",
        "    class_weight=class_weights,\n",
        "    verbose=1\n",
        ")"
      ]
    },
    {
      "cell_type": "markdown",
      "metadata": {
        "id": "i000Wxv4t48z"
      },
      "source": [
        "### Model Evaluation"
      ]
    },
    {
      "cell_type": "code",
      "execution_count": 60,
      "metadata": {
        "id": "v8EYN1myt48z",
        "colab": {
          "base_uri": "https://localhost:8080/"
        },
        "outputId": "32b68a4f-d4cc-4f93-90fc-30f0aacbd36b"
      },
      "outputs": [
        {
          "output_type": "stream",
          "name": "stdout",
          "text": [
            "\u001b[1m67/67\u001b[0m \u001b[32m━━━━━━━━━━━━━━━━━━━━\u001b[0m\u001b[37m\u001b[0m \u001b[1m5s\u001b[0m 71ms/step - accuracy: 0.4395 - loss: 1.4960\n",
            "Test Loss: 1.5037227869033813\n",
            "Test Accuracy: 0.4397732615470886\n"
          ]
        }
      ],
      "source": [
        "test_loss, test_acc = model.evaluate(test_dataset)\n",
        "print(\"Test Loss:\", test_loss)\n",
        "print(\"Test Accuracy:\", test_acc)"
      ]
    },
    {
      "cell_type": "markdown",
      "metadata": {
        "id": "_lgg-1mSt48z"
      },
      "source": [
        "### Plot Training Curves"
      ]
    },
    {
      "cell_type": "code",
      "execution_count": 61,
      "metadata": {
        "id": "0PsxXzRbt480",
        "colab": {
          "base_uri": "https://localhost:8080/",
          "height": 391
        },
        "outputId": "b9848e4d-742d-46f9-e592-f775291bbb9d"
      },
      "outputs": [
        {
          "output_type": "display_data",
          "data": {
            "text/plain": [
              "<Figure size 1200x400 with 2 Axes>"
            ],
            "image/png": "[encoded data removed]"
          },
          "metadata": {}
        }
      ],
      "source": [
        "plt.figure(figsize=(12, 4))\n",
        "\n",
        "plt.subplot(1, 2, 1)\n",
        "plt.plot(history.history['loss'], label='Train Loss')\n",
        "plt.plot(history.history['val_loss'], label='Val Loss')\n",
        "plt.legend()\n",
        "plt.title('Loss')\n",
        "\n",
        "plt.subplot(1, 2, 2)\n",
        "plt.plot(history.history['accuracy'], label='Train Accuracy')\n",
        "plt.plot(history.history['val_accuracy'], label='Val Accuracy')\n",
        "plt.legend()\n",
        "plt.title('Accuracy')\n",
        "\n",
        "plt.show()"
      ]
    }
  ],
  "metadata": {
    "colab": {
      "provenance": [],
      "gpuType": "T4",
      "include_colab_link": true
    },
    "kernelspec": {
      "display_name": "Python 3",
      "name": "python3"
    },
    "language_info": {
      "codemirror_mode": {
        "name": "ipython",
        "version": 3
      },
      "file_extension": ".py",
      "mimetype": "text/x-python",
      "name": "python",
      "nbconvert_exporter": "python",
      "pygments_lexer": "ipython3",
      "version": "3.11.11"
    },
    "accelerator": "GPU"
  },
  "nbformat": 4,
  "nbformat_minor": 0
}