{
  "cells": [
    {
      "cell_type": "markdown",
      "metadata": {
        "id": "view-in-github",
        "colab_type": "text"
      },
      "source": [
        "<a href=\"https://colab.research.google.com/github/shama-llama/crop-mapping/blob/main/src/cmap_msi.ipynb\" target=\"_parent\"><img src=\"https://colab.research.google.com/assets/colab-badge.svg\" alt=\"Open In Colab\"/></a>"
      ]
    },
    {
      "cell_type": "markdown",
      "metadata": {
        "id": "zO2xu0KNt48W"
      },
      "source": [
        "## Crop Mapping with Deep Learning"
      ]
    },
    {
      "cell_type": "code",
      "execution_count": 1,
      "metadata": {
        "id": "K06M5Q0Pwbdq",
        "collapsed": true,
        "colab": {
          "base_uri": "https://localhost:8080/"
        },
        "outputId": "efb79c5b-d50e-4af9-af10-15023e1ca10e"
      },
      "outputs": [
        {
          "output_type": "stream",
          "name": "stdout",
          "text": [
            "Mounted at /content/drive\n"
          ]
        }
      ],
      "source": [
        "from google.colab import drive\n",
        "drive.mount('/content/drive')"
      ]
    },
    {
      "cell_type": "markdown",
      "metadata": {
        "id": "hMmPY1jlt48b"
      },
      "source": [
        "### Import Libraries"
      ]
    },
    {
      "cell_type": "code",
      "execution_count": 2,
      "metadata": {
        "id": "KrbLtLBFt48d"
      },
      "outputs": [],
      "source": [
        "import os\n",
        "import io\n",
        "import h5py\n",
        "import random\n",
        "import numpy as np\n",
        "import matplotlib.pyplot as plt\n",
        "import seaborn as sns\n",
        "from PIL import Image\n",
        "from collections import defaultdict\n",
        "\n",
        "import torch\n",
        "import torch.nn as nn\n",
        "import torch.nn.functional as F\n",
        "import torch.optim as optim\n",
        "from torch.nn.utils.rnn import pad_sequence, pack_padded_sequence\n",
        "from torch.utils.data import Dataset, DataLoader\n",
        "from torchvision import transforms\n",
        "\n",
        "from sklearn.model_selection import train_test_split\n",
        "from sklearn.utils.class_weight import compute_class_weight\n",
        "from sklearn.metrics import confusion_matrix, classification_report"
      ]
    },
    {
      "cell_type": "markdown",
      "metadata": {
        "id": "nSxxnOHWt48f"
      },
      "source": [
        "### Parameter Configuration"
      ]
    },
    {
      "cell_type": "code",
      "execution_count": 7,
      "metadata": {
        "id": "bUxVTuqst48g"
      },
      "outputs": [],
      "source": [
        "# Dataset parameters\n",
        "hdf5_path = \"/content/drive/MyDrive/projects/crop-mapping/crop-mapping/dataset/dataset_ca_19.hdf5\"\n",
        "image_size = (65, 65)\n",
        "image_height, image_width = image_size\n",
        "sensors = [\"RGB\", \"NDVI45\", \"GNDVI\"]\n",
        "crop_mapping = {\n",
        "    \"BARLEY\": 0,\n",
        "    \"CANOLA\": 1,\n",
        "    \"CORN\": 2,\n",
        "    \"MIXEDWOOD\": 3,\n",
        "    \"OAT\": 4,\n",
        "    \"ORCHARD\": 5,\n",
        "    \"PASTURE\": 6,\n",
        "    \"POTATO\": 7,\n",
        "    \"SOYBEAN\": 8,\n",
        "    \"SPRING_WHEAT\": 9,\n",
        "}\n",
        "\n",
        "# Training parameters\n",
        "batch_size = 16\n",
        "num_classes = 10\n",
        "input_dim = 5\n",
        "epochs = 50\n",
        "patience = 5\n",
        "\n",
        "# Set random seed\n",
        "random.seed(42)\n",
        "np.random.seed(42)\n",
        "\n",
        "# Set device\n",
        "device = torch.device(\"cuda\" if torch.cuda.is_available() else \"cpu\")"
      ]
    },
    {
      "cell_type": "markdown",
      "metadata": {
        "id": "Hf62qJ7Ut48h"
      },
      "source": [
        "### Load and Verify Dataset"
      ]
    },
    {
      "cell_type": "code",
      "execution_count": 8,
      "metadata": {
        "id": "UEk9gmrlt48i"
      },
      "outputs": [],
      "source": [
        "# Function to decode an image stored as a variable-length uint8 array\n",
        "def decode_image(uint8_array, sensor_type):\n",
        "    if uint8_array.size == 0:\n",
        "        return None\n",
        "\n",
        "    image_bytes = uint8_array.tobytes()\n",
        "\n",
        "    try:\n",
        "        image = Image.open(io.BytesIO(image_bytes))\n",
        "        # Convert RGB images to full color.\n",
        "        if sensor_type == \"RGB\":\n",
        "            image = image.convert(\"RGB\")\n",
        "        # Other sensor types might be encoded as a single channel\n",
        "        else:\n",
        "            image = image.convert(\"L\")\n",
        "        return image\n",
        "    except Exception as e:\n",
        "        print(f\"Error decoding {sensor_type} image:\", e)\n",
        "        return None"
      ]
    },
    {
      "cell_type": "code",
      "execution_count": 9,
      "metadata": {
        "id": "IvIfNIPvt48j",
        "colab": {
          "base_uri": "https://localhost:8080/"
        },
        "outputId": "4f201e8c-283f-4e13-9cc4-6b84ffadd892"
      },
      "outputs": [
        {
          "output_type": "stream",
          "name": "stdout",
          "text": [
            "Total records loaded: 22413\n"
          ]
        }
      ],
      "source": [
        "# Generator for lazy loading records from HDF5 file\n",
        "def load_records(hdf5_path):\n",
        "    records = []\n",
        "    with h5py.File(hdf5_path, \"r\") as hf:\n",
        "        num_records = hf[\"POINT\"].shape[0]\n",
        "        for idx in range(num_records):\n",
        "            record = {\n",
        "                \"DATE\": hf[\"DATE\"][idx],\n",
        "                \"POINT\": hf[\"POINT\"][idx],\n",
        "                \"REGION\": hf[\"REGION\"][idx],\n",
        "                \"LABEL\": hf[\"LABEL\"][idx],\n",
        "            }\n",
        "            for sensor in sensors:\n",
        "                sensor_data = hf[sensor][idx]\n",
        "                record[sensor] = decode_image(sensor_data, sensor)\n",
        "            records.append(record)\n",
        "    return records\n",
        "\n",
        "\n",
        "# Load records with memory-efficient generator\n",
        "records = list(load_records(hdf5_path))\n",
        "\n",
        "# Verification\n",
        "print(f\"Total records loaded: {len(records)}\")"
      ]
    },
    {
      "cell_type": "markdown",
      "metadata": {
        "id": "soWZz3wkt48u"
      },
      "source": [
        "### Prepare Data Arrays"
      ]
    },
    {
      "cell_type": "code",
      "execution_count": 10,
      "metadata": {
        "id": "e9d-y0ToaUq4"
      },
      "outputs": [],
      "source": [
        "def compute_sensor_stats(records, sensors):\n",
        "    sensor_stats = {}\n",
        "    for sensor in sensors:\n",
        "        imgs = []\n",
        "        for rec in records:\n",
        "            # Get the sensor image from the record (decoded already)\n",
        "            img = rec[sensor]\n",
        "            if img is None:\n",
        "                continue\n",
        "            # Convert to numpy array and scale to [0,1]\n",
        "            arr = np.array(img, dtype=np.float32) / 255.0\n",
        "            # For non-RGB sensors, ensure a channel dimension\n",
        "            if sensor != \"RGB\":\n",
        "                arr = np.expand_dims(arr, axis=-1)\n",
        "            imgs.append(arr)\n",
        "        # Stack all images into a tensor of shape (N, H, W, C)\n",
        "        all_imgs = np.stack(imgs, axis=0)\n",
        "        # Compute mean and std over N, H, and W (keeping channel dimension)\n",
        "        mean = np.mean(all_imgs, axis=(0, 1, 2))\n",
        "        std = np.std(all_imgs, axis=(0, 1, 2))\n",
        "        sensor_stats[sensor] = (mean, std)\n",
        "    return sensor_stats\n",
        "\n",
        "sensor_stats = compute_sensor_stats(records, sensors)"
      ]
    },
    {
      "cell_type": "code",
      "execution_count": 11,
      "metadata": {
        "id": "iD99IFWTG26Q",
        "colab": {
          "base_uri": "https://localhost:8080/"
        },
        "outputId": "0551e725-51ba-4220-aaba-763fda85b5b0"
      },
      "outputs": [
        {
          "output_type": "stream",
          "name": "stdout",
          "text": [
            "Total sequences with at least 3 time steps: 5320\n"
          ]
        }
      ],
      "source": [
        "# Group records by (POINT, REGION)\n",
        "grouped = defaultdict(list)\n",
        "for rec in records:\n",
        "    key = (rec['POINT'], rec['REGION'])\n",
        "    grouped[key].append(rec)\n",
        "\n",
        "# Build sequences: sort by DATE and keep only groups with at least 3 records.\n",
        "sequences = []\n",
        "labels = []\n",
        "for key, recs in grouped.items():\n",
        "    recs_sorted = sorted(recs, key=lambda r: r['DATE'])\n",
        "    if len(recs_sorted) >= 3:\n",
        "        seq_images = []\n",
        "        for r in recs_sorted:\n",
        "            # For each sensor, normalize using its channel-wise statistics\n",
        "            # Assume r[sensor] is a PIL Image from which we obtain a numpy array.\n",
        "            rgb = np.array(r['RGB'], dtype=np.float32) / 255.0\n",
        "            # For RGB, sensor_stats['RGB'] returns (mean_rgb, std_rgb) each of shape (3,)\n",
        "            mean_rgb, std_rgb = sensor_stats['RGB']\n",
        "            rgb_norm = (rgb - mean_rgb) / std_rgb\n",
        "\n",
        "            # NDVI45 single-channel images.\n",
        "            ndvi45 = np.array(r['NDVI45'], dtype=np.float32) / 255.0\n",
        "            ndvi45 = np.expand_dims(ndvi45, axis=-1)\n",
        "            mean_ndvi45, std_ndvi45 = sensor_stats['NDVI45']\n",
        "            ndvi45_norm = (ndvi45 - mean_ndvi45) / std_ndvi45\n",
        "\n",
        "            # OSAVI single-channel images.\n",
        "            gndvi = np.array(r['GNDVI'], dtype=np.float32) / 255.0\n",
        "            gndvi = np.expand_dims(gndvi, axis=-1)\n",
        "            mean_gndvi, std_gndvi = sensor_stats['GNDVI']\n",
        "            gndvi_norm = (gndvi - mean_gndvi) / std_gndvi\n",
        "\n",
        "            # Fuse the normalized sensors (resulting shape: H x W x (3+1+1+1)=H x W x 6)\n",
        "            fused = np.concatenate([rgb_norm, ndvi45_norm, gndvi_norm], axis=-1)\n",
        "            seq_images.append(fused)\n",
        "\n",
        "        sequences.append(np.array(seq_images))\n",
        "        labels.append(recs_sorted[0]['LABEL'])\n",
        "\n",
        "print(f\"Total sequences with at least 3 time steps: {len(sequences)}\")"
      ]
    },
    {
      "cell_type": "markdown",
      "metadata": {
        "id": "YFdfkTZTt48v"
      },
      "source": [
        "### Train/Validation/Test Split"
      ]
    },
    {
      "cell_type": "code",
      "execution_count": 12,
      "metadata": {
        "id": "FdmCY_Wct48w",
        "colab": {
          "base_uri": "https://localhost:8080/"
        },
        "outputId": "4e806eac-3f78-45f6-d057-1b735f3e6602"
      },
      "outputs": [
        {
          "output_type": "stream",
          "name": "stdout",
          "text": [
            "Train sequences: 4256\n",
            "Validation sequences: 532\n",
            "Test sequences: 532\n"
          ]
        }
      ],
      "source": [
        "seq_train, seq_temp, label_train, label_temp = train_test_split(\n",
        "    sequences, labels, test_size=0.20, stratify=labels, random_state=42\n",
        ")\n",
        "seq_val, seq_test, label_val, label_test = train_test_split(\n",
        "    seq_temp, label_temp, test_size=0.5, stratify=label_temp, random_state=42\n",
        ")\n",
        "print(\"Train sequences:\", len(seq_train))\n",
        "print(\"Validation sequences:\", len(seq_val))\n",
        "print(\"Test sequences:\", len(seq_test))"
      ]
    },
    {
      "cell_type": "code",
      "execution_count": 13,
      "metadata": {
        "id": "9DTgVlPrcxfn"
      },
      "outputs": [],
      "source": [
        "class SequenceDataset(Dataset):\n",
        "    def __init__(self, sequences, labels, augment=False):\n",
        "        self.sequences = sequences\n",
        "        self.labels = labels\n",
        "        self.augment = augment\n",
        "        # Base transform: converts numpy array (H,W,C) to tensor (C,H,W)\n",
        "        self.base_transform = transforms.Compose([\n",
        "            transforms.Lambda(lambda x: torch.from_numpy(x).permute(2, 0, 1).float()),\n",
        "        ])\n",
        "        # Spatial augmentations only\n",
        "        self.augment_transform = transforms.Compose([\n",
        "            transforms.RandomHorizontalFlip(p=0.5),\n",
        "            transforms.RandomRotation(degrees=(-15, 15)),\n",
        "            transforms.RandomAffine(degrees=0, translate=(0.1, 0.1)),\n",
        "        ])\n",
        "\n",
        "    def __len__(self):\n",
        "        return len(self.sequences)\n",
        "\n",
        "    def __getitem__(self, idx):\n",
        "        seq = self.sequences[idx]\n",
        "        label = self.labels[idx]\n",
        "        processed_seq = []\n",
        "        for img in seq:\n",
        "            img_tensor = self.base_transform(img)\n",
        "            if self.augment:\n",
        "                img_tensor = self.augment_transform(img_tensor)\n",
        "            processed_seq.append(img_tensor)\n",
        "        seq_length = len(processed_seq)\n",
        "        # Do not pad here; return the list and its length\n",
        "        return processed_seq, label, seq_length\n",
        "\n",
        "def collate_fn(batch):\n",
        "    # Each element in batch is a tuple: (list_of_tensors, label, seq_length)\n",
        "    sequences, labels, lengths = zip(*batch)\n",
        "    # Convert list of tensors for each sample into a tensor of shape (seq_len, C, H, W)\n",
        "    sequences = [torch.stack(seq) for seq in sequences]\n",
        "    # Pad sequences to have same length (batch_first=True gives shape: (batch, max_seq_len, C, H, W))\n",
        "    padded_seqs = pad_sequence(sequences, batch_first=True)\n",
        "    labels = torch.tensor(labels)\n",
        "    # No sorting and packing required for the new model\n",
        "    return padded_seqs, labels, lengths\n",
        "\n",
        "train_dataset = SequenceDataset(seq_train, label_train, augment=True)\n",
        "val_dataset = SequenceDataset(seq_val, label_val, augment=False)\n",
        "test_dataset = SequenceDataset(seq_test, label_test, augment=False)\n",
        "\n",
        "train_loader = DataLoader(train_dataset, batch_size=batch_size, shuffle=True,\n",
        "                          num_workers=2, pin_memory=True, collate_fn=collate_fn)\n",
        "val_loader = DataLoader(val_dataset, batch_size=batch_size, shuffle=False,\n",
        "                        num_workers=2, pin_memory=True, collate_fn=collate_fn)\n",
        "test_loader = DataLoader(test_dataset, batch_size=batch_size, shuffle=False,\n",
        "                         num_workers=2, pin_memory=True, collate_fn=collate_fn)"
      ]
    },
    {
      "cell_type": "markdown",
      "metadata": {
        "id": "gsgEKGZvJFFf"
      },
      "source": [
        "### Model Definition"
      ]
    },
    {
      "cell_type": "code",
      "execution_count": 14,
      "metadata": {
        "id": "jEgVWKwIJEtD"
      },
      "outputs": [],
      "source": [
        "class ConvLSTMCell(nn.Module):\n",
        "    def __init__(self, input_size, input_dim, hidden_dim, kernel_size, bias):\n",
        "        super(ConvLSTMCell, self).__init__()\n",
        "\n",
        "        self.height, self.width = input_size\n",
        "        self.input_dim  = input_dim\n",
        "        self.hidden_dim = hidden_dim\n",
        "\n",
        "        self.kernel_size = kernel_size\n",
        "        self.padding     = (kernel_size[0] // 2, kernel_size[1] // 2)\n",
        "        self.bias        = bias\n",
        "\n",
        "        self.conv = nn.Conv2d(in_channels=self.input_dim + self.hidden_dim,\n",
        "                              out_channels=4 * self.hidden_dim,\n",
        "                              kernel_size=self.kernel_size,\n",
        "                              padding=self.padding,\n",
        "                              bias=self.bias)\n",
        "\n",
        "    def forward(self, input_tensor, cur_state):\n",
        "        h_cur, c_cur = cur_state\n",
        "\n",
        "        # Concatenate along channel axis\n",
        "        combined = torch.cat([input_tensor, h_cur], dim=1)\n",
        "        combined_conv = self.conv(combined)\n",
        "        cc_i, cc_f, cc_o, cc_g = torch.split(combined_conv, self.hidden_dim, dim=1)\n",
        "        i = torch.sigmoid(cc_i)\n",
        "        f = torch.sigmoid(cc_f)\n",
        "        o = torch.sigmoid(cc_o)\n",
        "        g = torch.tanh(cc_g)\n",
        "\n",
        "        c_next = f * c_cur + i * g\n",
        "        h_next = o * torch.tanh(c_next)\n",
        "\n",
        "        return h_next, c_next\n",
        "\n",
        "    def init_hidden(self, batch_size):\n",
        "        # Ensure hidden states are created on the same device as the model's parameters.\n",
        "        device = next(self.parameters()).device\n",
        "        h = torch.zeros(batch_size, self.hidden_dim, self.height, self.width, device=device)\n",
        "        c = torch.zeros(batch_size, self.hidden_dim, self.height, self.width, device=device)\n",
        "        return h, c\n",
        "\n",
        "\n",
        "class ConvLSTM(nn.Module):\n",
        "    def __init__(self, input_size, input_dim, hidden_dim, kernel_size, num_layers,\n",
        "                 batch_first=False, bias=True, return_all_layers=True):\n",
        "        super(ConvLSTM, self).__init__()\n",
        "\n",
        "        self._check_kernel_size_consistency(kernel_size)\n",
        "\n",
        "        # Ensure kernel_size and hidden_dim are lists of length num_layers\n",
        "        kernel_size = self._extend_for_multilayer(kernel_size, num_layers)\n",
        "        hidden_dim  = self._extend_for_multilayer(hidden_dim, num_layers)\n",
        "        if not len(kernel_size) == len(hidden_dim) == num_layers:\n",
        "            raise ValueError('Inconsistent list length.')\n",
        "\n",
        "        self.height, self.width = input_size\n",
        "        self.input_dim  = input_dim\n",
        "        self.hidden_dim = hidden_dim\n",
        "        self.kernel_size = kernel_size\n",
        "        self.num_layers = num_layers\n",
        "        self.batch_first = batch_first\n",
        "        self.bias = bias\n",
        "        self.return_all_layers = return_all_layers\n",
        "\n",
        "        cell_list = []\n",
        "        for i in range(self.num_layers):\n",
        "            cur_input_dim = self.input_dim if i == 0 else self.hidden_dim[i-1]\n",
        "            cell_list.append(ConvLSTMCell(input_size=(self.height, self.width),\n",
        "                                          input_dim=cur_input_dim,\n",
        "                                          hidden_dim=self.hidden_dim[i],\n",
        "                                          kernel_size=self.kernel_size[i],\n",
        "                                          bias=self.bias))\n",
        "        self.cell_list = nn.ModuleList(cell_list)\n",
        "\n",
        "    def forward(self, input_tensor, hidden_state=None, cell_state=None):\n",
        "        if not self.batch_first:\n",
        "            # (t, b, c, h, w) -> (b, t, c, h, w)\n",
        "            input_tensor = input_tensor.permute(1, 0, 2, 3, 4)\n",
        "\n",
        "        b, seq_len, _, h, w = input_tensor.size()\n",
        "\n",
        "        # Initialize hidden states if not provided\n",
        "        if hidden_state is None or cell_state is None:\n",
        "            hidden_state = []\n",
        "            cell_state = []\n",
        "            for i in range(self.num_layers):\n",
        "                h_i, c_i = self.cell_list[i].init_hidden(b)\n",
        "                hidden_state.append(h_i)\n",
        "                cell_state.append(c_i)\n",
        "\n",
        "        layer_output_list = []\n",
        "        last_state_list = []\n",
        "        cur_layer_input = input_tensor\n",
        "\n",
        "        for layer_idx in range(self.num_layers):\n",
        "            h = hidden_state[layer_idx]\n",
        "            c = cell_state[layer_idx]\n",
        "            output_inner = []\n",
        "            for t in range(seq_len):\n",
        "                h, c = self.cell_list[layer_idx](input_tensor=cur_layer_input[:, t, :, :, :],\n",
        "                                                 cur_state=[h, c])\n",
        "                output_inner.append(h)\n",
        "            layer_output = torch.stack(output_inner, dim=1)\n",
        "            cur_layer_input = layer_output\n",
        "\n",
        "            layer_output_list.append(layer_output)\n",
        "            last_state_list.append([h, c])\n",
        "\n",
        "        if not self.return_all_layers:\n",
        "            layer_output_list = layer_output_list[-1:]\n",
        "            last_state_list   = last_state_list[-1:]\n",
        "\n",
        "        return layer_output_list, last_state_list\n",
        "\n",
        "    def _init_hidden(self, batch_size):\n",
        "        init_states = []\n",
        "        for i in range(self.num_layers):\n",
        "            init_states.append(self.cell_list[i].init_hidden(batch_size))\n",
        "        return init_states\n",
        "\n",
        "    @staticmethod\n",
        "    def _check_kernel_size_consistency(kernel_size):\n",
        "        if not (isinstance(kernel_size, tuple) or\n",
        "                (isinstance(kernel_size, list) and all([isinstance(elem, tuple) for elem in kernel_size]))):\n",
        "            raise ValueError('`kernel_size` must be tuple or list of tuples')\n",
        "\n",
        "    @staticmethod\n",
        "    def _extend_for_multilayer(param, num_layers):\n",
        "        if not isinstance(param, list):\n",
        "            param = [param] * num_layers\n",
        "        return param\n",
        "\n",
        "\n",
        "class ConvLSTMClassifier(nn.Module):\n",
        "    def __init__(self, input_size, input_dim, hidden_dim, kernel_size, num_layers, num_classes, bias=True):\n",
        "        super(ConvLSTMClassifier, self).__init__()\n",
        "        self.convlstm = ConvLSTM(input_size=input_size,\n",
        "                                 input_dim=input_dim,\n",
        "                                 hidden_dim=hidden_dim,\n",
        "                                 kernel_size=kernel_size,\n",
        "                                 num_layers=num_layers,\n",
        "                                 batch_first=True,\n",
        "                                 bias=bias,\n",
        "                                 return_all_layers=False)\n",
        "        self.pool = nn.AdaptiveAvgPool2d((1, 1))\n",
        "        self.fc = nn.Linear(hidden_dim[-1], num_classes)\n",
        "\n",
        "    def forward(self, x):\n",
        "        # x shape: (batch, seq_len, channels, height, width)\n",
        "        _, last_state_list = self.convlstm(x)\n",
        "        h, _ = last_state_list[0]  # Last hidden state from final layer\n",
        "        pooled = self.pool(h)      # (batch, hidden_dim, 1, 1)\n",
        "        pooled = pooled.view(pooled.size(0), -1)\n",
        "        out = self.fc(pooled)\n",
        "        return out"
      ]
    },
    {
      "cell_type": "code",
      "execution_count": 23,
      "metadata": {
        "id": "iuYqcYjbYbod"
      },
      "outputs": [],
      "source": [
        "# Calculate the frequency of each class in label_train\n",
        "classes = np.unique(label_train)\n",
        "class_weights = compute_class_weight('balanced', classes=classes, y=label_train)\n",
        "class_weights = torch.tensor(class_weights, dtype=torch.float32).to(device)\n",
        "\n",
        "# Initialize Model, Loss, and Optimizer\n",
        "model = ConvLSTMClassifier(input_size=image_size,\n",
        "                           input_dim=input_dim,\n",
        "                           hidden_dim=[64, 128],\n",
        "                           kernel_size=[(3, 3), (3, 3)],\n",
        "                           num_layers=2,\n",
        "                           num_classes=num_classes,\n",
        "                           bias=True).to(device)\n",
        "criterion = nn.CrossEntropyLoss(weight=class_weights)\n",
        "optimizer = optim.Adam(model.parameters(), lr=0.001)\n",
        "lr_scheduler = torch.optim.lr_scheduler.StepLR(optimizer, step_size=20, gamma=0.1)"
      ]
    },
    {
      "cell_type": "markdown",
      "metadata": {
        "id": "id3tzaOvJP7B"
      },
      "source": [
        "### Model Training"
      ]
    },
    {
      "cell_type": "code",
      "execution_count": 24,
      "metadata": {
        "id": "BbRtAblpNPe-",
        "colab": {
          "base_uri": "https://localhost:8080/"
        },
        "outputId": "86837f1a-6cdd-48dd-9604-9b338df2c89f"
      },
      "outputs": [
        {
          "output_type": "stream",
          "name": "stdout",
          "text": [
            "Epoch 1/50\n",
            "Train Loss: 1.3991, Acc: 0.4725\n",
            "Val Loss: 1.0206, Acc: 0.6090\n",
            "\n",
            "Epoch 2/50\n",
            "Train Loss: 0.9000, Acc: 0.6774\n",
            "Val Loss: 0.7711, Acc: 0.7218\n",
            "\n",
            "Epoch 3/50\n",
            "Train Loss: 0.7135, Acc: 0.7545\n",
            "Val Loss: 0.7787, Acc: 0.7632\n",
            "\n",
            "Epoch 4/50\n",
            "Train Loss: 0.6052, Acc: 0.7949\n",
            "Val Loss: 0.6210, Acc: 0.8045\n",
            "\n",
            "Epoch 5/50\n",
            "Train Loss: 0.5273, Acc: 0.8247\n",
            "Val Loss: 0.6557, Acc: 0.8139\n",
            "\n",
            "Epoch 6/50\n",
            "Train Loss: 0.4616, Acc: 0.8459\n",
            "Val Loss: 0.6639, Acc: 0.8177\n",
            "\n",
            "Epoch 7/50\n",
            "Train Loss: 0.4042, Acc: 0.8640\n",
            "Val Loss: 0.5402, Acc: 0.8553\n",
            "\n",
            "Epoch 8/50\n",
            "Train Loss: 0.3811, Acc: 0.8738\n",
            "Val Loss: 0.5700, Acc: 0.8703\n",
            "\n",
            "Epoch 9/50\n",
            "Train Loss: 0.3404, Acc: 0.8870\n",
            "Val Loss: 0.5994, Acc: 0.8609\n",
            "\n",
            "Epoch 10/50\n",
            "Train Loss: 0.3026, Acc: 0.8971\n",
            "Val Loss: 0.5537, Acc: 0.8703\n",
            "\n",
            "Epoch 11/50\n",
            "Train Loss: 0.3034, Acc: 0.9062\n",
            "Val Loss: 0.6149, Acc: 0.8515\n",
            "\n",
            "Epoch 12/50\n",
            "Train Loss: 0.2664, Acc: 0.9084\n",
            "Val Loss: 0.5345, Acc: 0.8703\n",
            "\n",
            "Epoch 13/50\n",
            "Train Loss: 0.2438, Acc: 0.9180\n",
            "Val Loss: 0.5904, Acc: 0.8872\n",
            "\n",
            "Epoch 14/50\n",
            "Train Loss: 0.2376, Acc: 0.9222\n",
            "Val Loss: 0.4956, Acc: 0.8985\n",
            "\n",
            "Epoch 15/50\n",
            "Train Loss: 0.2092, Acc: 0.9300\n",
            "Val Loss: 0.5738, Acc: 0.8797\n",
            "\n",
            "Epoch 16/50\n",
            "Train Loss: 0.1938, Acc: 0.9337\n",
            "Val Loss: 0.5514, Acc: 0.8910\n",
            "\n",
            "Epoch 17/50\n",
            "Train Loss: 0.1753, Acc: 0.9431\n",
            "Val Loss: 0.4808, Acc: 0.8872\n",
            "\n",
            "Epoch 18/50\n",
            "Train Loss: 0.1423, Acc: 0.9537\n",
            "Val Loss: 0.5886, Acc: 0.8778\n",
            "\n",
            "Epoch 19/50\n",
            "Train Loss: 0.1402, Acc: 0.9497\n",
            "Val Loss: 0.5967, Acc: 0.8929\n",
            "\n",
            "Epoch 20/50\n",
            "Train Loss: 0.1349, Acc: 0.9558\n",
            "Val Loss: 0.6194, Acc: 0.9004\n",
            "\n",
            "Epoch 21/50\n",
            "Train Loss: 0.0850, Acc: 0.9753\n",
            "Val Loss: 0.5654, Acc: 0.9079\n",
            "\n",
            "Epoch 22/50\n",
            "Train Loss: 0.0633, Acc: 0.9828\n",
            "Val Loss: 0.5650, Acc: 0.9098\n",
            "\n",
            "Early stopping triggered at epoch 22\n"
          ]
        }
      ],
      "source": [
        "history = {'loss': [], 'val_loss': [], 'accuracy': [], 'val_accuracy': []}\n",
        "best_val_loss = float('inf')\n",
        "patience_counter = 0\n",
        "\n",
        "for epoch in range(epochs):\n",
        "    # Training phase\n",
        "    model.train()\n",
        "    running_loss = 0.0\n",
        "    running_correct = 0\n",
        "    for seqs, labels, lengths in train_loader:\n",
        "        seqs = seqs.to(device)\n",
        "        labels = labels.to(device)\n",
        "        optimizer.zero_grad()\n",
        "        outputs = model(seqs)\n",
        "        loss = criterion(outputs, labels)\n",
        "        loss.backward()\n",
        "        torch.nn.utils.clip_grad_norm_(model.parameters(), max_norm=1.0)\n",
        "        optimizer.step()\n",
        "\n",
        "        running_loss += loss.item() * labels.size(0)\n",
        "        _, preds = torch.max(outputs, 1)\n",
        "        running_correct += torch.sum(preds == labels).item()\n",
        "\n",
        "    epoch_loss = running_loss / len(train_loader.dataset)\n",
        "    epoch_acc = running_correct / len(train_loader.dataset)\n",
        "    history['loss'].append(epoch_loss)\n",
        "    history['accuracy'].append(epoch_acc)\n",
        "    lr_scheduler.step()\n",
        "\n",
        "    # Validation phase\n",
        "    model.eval()\n",
        "    val_loss = 0.0\n",
        "    val_correct = 0\n",
        "    with torch.no_grad():\n",
        "        for seqs, labels, lengths in val_loader:\n",
        "            seqs = seqs.to(device)\n",
        "            labels = labels.to(device)\n",
        "\n",
        "            outputs = model(seqs)\n",
        "            loss = criterion(outputs, labels)\n",
        "            val_loss += loss.item() * labels.size(0)\n",
        "            _, preds = torch.max(outputs, 1)\n",
        "            val_correct += torch.sum(preds == labels).item()\n",
        "\n",
        "    val_epoch_loss = val_loss / len(val_loader.dataset)\n",
        "    val_epoch_acc = val_correct / len(val_loader.dataset)\n",
        "    history['val_loss'].append(val_epoch_loss)\n",
        "    history['val_accuracy'].append(val_epoch_acc)\n",
        "\n",
        "    print(f\"Epoch {epoch+1}/{epochs}\")\n",
        "    print(f\"Train Loss: {epoch_loss:.4f}, Acc: {epoch_acc:.4f}\")\n",
        "    print(f\"Val Loss: {val_epoch_loss:.4f}, Acc: {val_epoch_acc:.4f}\\n\")\n",
        "\n",
        "    # Early stopping check\n",
        "    if val_epoch_loss < best_val_loss:\n",
        "        best_val_loss = val_epoch_loss\n",
        "        patience_counter = 0\n",
        "        torch.save(model.state_dict(), 'best_model.pth')\n",
        "    else:\n",
        "        patience_counter += 1\n",
        "        if patience_counter >= patience:\n",
        "            print(f\"Early stopping triggered at epoch {epoch+1}\")\n",
        "            break"
      ]
    },
    {
      "cell_type": "markdown",
      "metadata": {
        "id": "i000Wxv4t48z"
      },
      "source": [
        "### Model Evaluation"
      ]
    },
    {
      "cell_type": "code",
      "execution_count": 25,
      "metadata": {
        "id": "v8EYN1myt48z",
        "colab": {
          "base_uri": "https://localhost:8080/"
        },
        "outputId": "5ab5d1ed-6c2b-449c-db2a-053f4421ca4d"
      },
      "outputs": [
        {
          "output_type": "stream",
          "name": "stdout",
          "text": [
            "Test Loss: 0.4825, Test Accuracy: 0.9079\n"
          ]
        }
      ],
      "source": [
        "model.eval()\n",
        "test_loss = 0.0\n",
        "correct = 0\n",
        "all_labels = []\n",
        "all_preds = []\n",
        "\n",
        "with torch.no_grad():\n",
        "    for seqs, labels, lengths in test_loader:\n",
        "        seqs = seqs.to(device)\n",
        "        labels = labels.to(device)\n",
        "\n",
        "        outputs = model(seqs)\n",
        "        loss = criterion(outputs, labels)\n",
        "        test_loss += loss.item() * labels.size(0)\n",
        "        _, preds = torch.max(outputs, 1)\n",
        "        correct += torch.sum(preds == labels).item()\n",
        "\n",
        "        all_preds.extend(preds.cpu().numpy())\n",
        "        all_labels.extend(labels.cpu().numpy())\n",
        "\n",
        "test_loss /= len(test_loader.dataset)\n",
        "accuracy = correct / len(test_loader.dataset)\n",
        "print(f\"Test Loss: {test_loss:.4f}, Test Accuracy: {accuracy:.4f}\")"
      ]
    },
    {
      "cell_type": "code",
      "execution_count": 26,
      "metadata": {
        "id": "lOyUyalz8Cq9",
        "colab": {
          "base_uri": "https://localhost:8080/",
          "height": 659
        },
        "outputId": "6ad6bb98-78c1-4e47-e606-ef28d8b10ef3"
      },
      "outputs": [
        {
          "output_type": "display_data",
          "data": {
            "text/plain": [
              "<Figure size 800x600 with 2 Axes>"
            ],
            "image/png": "[encoded data removed]"
          },
          "metadata": {}
        }
      ],
      "source": [
        "# Compute confusion matrix\n",
        "cm = confusion_matrix(all_labels, all_preds)\n",
        "plt.figure(figsize=(8, 6))\n",
        "sns.heatmap(cm, annot=True, fmt=\"d\", cmap=\"Blues\",\n",
        "            xticklabels=list(crop_mapping.keys()),\n",
        "            yticklabels=list(crop_mapping.keys()))\n",
        "plt.xlabel(\"Predicted Label\")\n",
        "plt.ylabel(\"True Label\")\n",
        "plt.title(\"Confusion Matrix\")\n",
        "plt.show()"
      ]
    },
    {
      "cell_type": "code",
      "execution_count": 27,
      "metadata": {
        "id": "CvPvLLTo8D6M",
        "colab": {
          "base_uri": "https://localhost:8080/"
        },
        "outputId": "d9ef461c-3d91-4af9-9649-d45513da93e6"
      },
      "outputs": [
        {
          "output_type": "stream",
          "name": "stdout",
          "text": [
            "Classification Report:\n",
            "              precision    recall  f1-score   support\n",
            "\n",
            "      BARLEY       0.82      0.75      0.78        36\n",
            "      CANOLA       0.94      0.97      0.96        66\n",
            "        CORN       0.89      0.91      0.90        55\n",
            "   MIXEDWOOD       0.94      1.00      0.97        32\n",
            "         OAT       0.91      0.88      0.89        67\n",
            "     ORCHARD       0.98      0.92      0.95        51\n",
            "     PASTURE       0.86      0.91      0.89        47\n",
            "      POTATO       0.90      0.94      0.92        67\n",
            "     SOYBEAN       0.94      0.89      0.92       104\n",
            "SPRING_WHEAT       0.56      0.71      0.62         7\n",
            "\n",
            "    accuracy                           0.91       532\n",
            "   macro avg       0.87      0.89      0.88       532\n",
            "weighted avg       0.91      0.91      0.91       532\n",
            "\n"
          ]
        }
      ],
      "source": [
        "# Compute and print classwise metrics\n",
        "report = classification_report(all_labels, all_preds, target_names=list(crop_mapping.keys()))\n",
        "print(\"Classification Report:\")\n",
        "print(report)"
      ]
    },
    {
      "cell_type": "markdown",
      "metadata": {
        "id": "_lgg-1mSt48z"
      },
      "source": [
        "### Plot Training Curves"
      ]
    },
    {
      "cell_type": "code",
      "execution_count": 28,
      "metadata": {
        "id": "0PsxXzRbt480",
        "colab": {
          "base_uri": "https://localhost:8080/",
          "height": 807
        },
        "outputId": "7aadc571-0b64-4561-d8b7-9481285b7a51"
      },
      "outputs": [
        {
          "output_type": "display_data",
          "data": {
            "text/plain": [
              "<Figure size 1200x800 with 2 Axes>"
            ],
            "image/png": "[encoded data removed]"
          },
          "metadata": {}
        }
      ],
      "source": [
        "plt.figure(figsize=(12, 8))\n",
        "\n",
        "# Loss Plot\n",
        "plt.subplot(2, 1, 1)\n",
        "plt.plot(history['loss'], label='Train Loss', color='blue', linestyle='-')\n",
        "plt.plot(history['val_loss'], label='Val Loss', color='red', linestyle='--')\n",
        "plt.title('Loss Over Epochs', fontsize=14)\n",
        "plt.xlabel('Epoch', fontsize=12)\n",
        "plt.ylabel('Loss', fontsize=12)\n",
        "plt.legend(fontsize=12)\n",
        "plt.grid(True)\n",
        "\n",
        "# Accuracy Plot\n",
        "plt.subplot(2, 1, 2)\n",
        "plt.plot(history['accuracy'], label='Train Accuracy', color='blue', linestyle='-')\n",
        "plt.plot(history['val_accuracy'], label='Val Accuracy', color='red', linestyle='--')\n",
        "plt.title('Accuracy Over Epochs', fontsize=14)\n",
        "plt.xlabel('Epoch', fontsize=12)\n",
        "plt.ylabel('Accuracy', fontsize=12)\n",
        "plt.legend(fontsize=12)\n",
        "plt.grid(True)\n",
        "\n",
        "plt.tight_layout()\n",
        "plt.show()"
      ]
    },
    {
      "cell_type": "markdown",
      "metadata": {
        "id": "jnY2Las9yCfR"
      },
      "source": []
    }
  ],
  "metadata": {
    "colab": {
      "provenance": [],
      "gpuType": "T4",
      "include_colab_link": true
    },
    "kernelspec": {
      "display_name": "Python 3",
      "name": "python3"
    },
    "language_info": {
      "codemirror_mode": {
        "name": "ipython",
        "version": 3
      },
      "file_extension": ".py",
      "mimetype": "text/x-python",
      "name": "python",
      "nbconvert_exporter": "python",
      "pygments_lexer": "ipython3",
      "version": "3.11.11"
    },
    "accelerator": "GPU"
  },
  "nbformat": 4,
  "nbformat_minor": 0
}