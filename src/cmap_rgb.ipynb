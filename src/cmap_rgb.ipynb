{
  "cells": [
    {
      "cell_type": "markdown",
      "metadata": {
        "id": "view-in-github",
        "colab_type": "text"
      },
      "source": [
        "<a href=\"https://colab.research.google.com/github/shama-llama/crop-mapping/blob/main/src/cmap_rgb.ipynb\" target=\"_parent\"><img src=\"https://colab.research.google.com/assets/colab-badge.svg\" alt=\"Open In Colab\"/></a>"
      ]
    },
    {
      "cell_type": "markdown",
      "metadata": {
        "id": "zO2xu0KNt48W"
      },
      "source": [
        "## Crop Mapping with Deep Learning"
      ]
    },
    {
      "cell_type": "code",
      "execution_count": null,
      "metadata": {
        "id": "K06M5Q0Pwbdq",
        "collapsed": true,
        "colab": {
          "base_uri": "https://localhost:8080/"
        },
        "outputId": "36b95e90-8589-41a6-ae8b-20c680fb740e"
      },
      "outputs": [
        {
          "output_type": "stream",
          "name": "stdout",
          "text": [
            "Mounted at /content/drive\n"
          ]
        }
      ],
      "source": [
        "from google.colab import drive\n",
        "drive.mount('/content/drive')"
      ]
    },
    {
      "cell_type": "markdown",
      "metadata": {
        "id": "hMmPY1jlt48b"
      },
      "source": [
        "### Import Libraries"
      ]
    },
    {
      "cell_type": "code",
      "execution_count": null,
      "metadata": {
        "id": "KrbLtLBFt48d"
      },
      "outputs": [],
      "source": [
        "import os\n",
        "import io\n",
        "import h5py\n",
        "import random\n",
        "import numpy as np\n",
        "import matplotlib.pyplot as plt\n",
        "import seaborn as sns\n",
        "from PIL import Image\n",
        "from collections import defaultdict\n",
        "\n",
        "import torch\n",
        "import torch.nn as nn\n",
        "import torch.nn.functional as F\n",
        "import torch.optim as optim\n",
        "from torch.nn.utils.rnn import pad_sequence, pack_padded_sequence\n",
        "from torch.utils.data import Dataset, DataLoader\n",
        "from torchvision import transforms\n",
        "\n",
        "from sklearn.model_selection import train_test_split\n",
        "from sklearn.utils.class_weight import compute_class_weight\n",
        "from sklearn.metrics import confusion_matrix, classification_report"
      ]
    },
    {
      "cell_type": "markdown",
      "metadata": {
        "id": "nSxxnOHWt48f"
      },
      "source": [
        "### Parameter Configuration"
      ]
    },
    {
      "cell_type": "code",
      "execution_count": null,
      "metadata": {
        "id": "bUxVTuqst48g"
      },
      "outputs": [],
      "source": [
        "# Dataset parameters\n",
        "hdf5_path = \"/content/drive/MyDrive/projects/crop-mapping-with-deep-learning/crop-mapping/dataset/dataset_ca_18.hdf5\"\n",
        "image_size = (65, 65)\n",
        "image_height, image_width = image_size\n",
        "# Use only the RGB sensor\n",
        "sensors = [\"RGB\"]\n",
        "crop_mapping = {\n",
        "    \"BARLEY\": 0,\n",
        "    \"CANOLA\": 1,\n",
        "    \"CORN\": 2,\n",
        "    \"MIXEDWOOD\": 3,\n",
        "    \"OAT\": 4,\n",
        "    \"ORCHARD\": 5,\n",
        "    \"PASTURE\": 6,\n",
        "    \"POTATO\": 7,\n",
        "    \"SOYBEAN\": 8,\n",
        "    \"SPRING_WHEAT\": 9,\n",
        "}\n",
        "\n",
        "# Training parameters\n",
        "batch_size = 16\n",
        "num_classes = 10\n",
        "input_shape = (image_height, image_width, 3)\n",
        "epochs = 50\n",
        "patience = 5\n",
        "\n",
        "# Set random seed\n",
        "random.seed(42)\n",
        "np.random.seed(42)\n",
        "\n",
        "# Set device\n",
        "device = torch.device(\"cuda\" if torch.cuda.is_available() else \"cpu\")"
      ]
    },
    {
      "cell_type": "markdown",
      "metadata": {
        "id": "Hf62qJ7Ut48h"
      },
      "source": [
        "### Load and Verify Dataset"
      ]
    },
    {
      "cell_type": "code",
      "execution_count": null,
      "metadata": {
        "id": "UEk9gmrlt48i"
      },
      "outputs": [],
      "source": [
        "# Function to decode an image stored as a variable-length uint8 array\n",
        "def decode_image(uint8_array, sensor_type):\n",
        "    if uint8_array.size == 0:\n",
        "        return None\n",
        "\n",
        "    image_bytes = uint8_array.tobytes()\n",
        "\n",
        "    try:\n",
        "        image = Image.open(io.BytesIO(image_bytes))\n",
        "        image = image.convert(\"RGB\")\n",
        "        return image\n",
        "    except Exception as e:\n",
        "        print(f\"Error decoding image:\", e)\n",
        "        return None"
      ]
    },
    {
      "cell_type": "code",
      "execution_count": null,
      "metadata": {
        "id": "IvIfNIPvt48j",
        "colab": {
          "base_uri": "https://localhost:8080/"
        },
        "outputId": "28997e65-94ac-4c40-f54f-807fbed94e4b"
      },
      "outputs": [
        {
          "output_type": "stream",
          "name": "stdout",
          "text": [
            "Total records loaded: 18325\n"
          ]
        }
      ],
      "source": [
        "# Generator for lazy loading records from HDF5 file\n",
        "def load_records(hdf5_path):\n",
        "    records = []\n",
        "    with h5py.File(hdf5_path, \"r\") as hf:\n",
        "        num_records = hf[\"POINT\"].shape[0]\n",
        "        for idx in range(num_records):\n",
        "            record = {\n",
        "                \"DATE\": hf[\"DATE\"][idx],\n",
        "                \"POINT\": hf[\"POINT\"][idx],\n",
        "                \"REGION\": hf[\"REGION\"][idx],\n",
        "                \"LABEL\": hf[\"LABEL\"][idx],\n",
        "            }\n",
        "            for sensor in sensors:\n",
        "                sensor_data = hf[sensor][idx]\n",
        "                record[sensor] = decode_image(sensor_data, sensor)\n",
        "            records.append(record)\n",
        "    return records\n",
        "\n",
        "\n",
        "# Load records with memory-efficient generator\n",
        "records = list(load_records(hdf5_path))\n",
        "\n",
        "# Verification\n",
        "print(f\"Total records loaded: {len(records)}\")"
      ]
    },
    {
      "cell_type": "markdown",
      "metadata": {
        "id": "soWZz3wkt48u"
      },
      "source": [
        "### Prepare Data Arrays"
      ]
    },
    {
      "cell_type": "code",
      "execution_count": null,
      "metadata": {
        "id": "e9d-y0ToaUq4"
      },
      "outputs": [],
      "source": [
        "def compute_sensor_stats(records, sensors):\n",
        "    sensor_stats = {}\n",
        "    for sensor in sensors:\n",
        "        imgs = []\n",
        "        for rec in records:\n",
        "            # Get the sensor image from the record (decoded already)\n",
        "            img = rec[sensor]\n",
        "            if img is None:\n",
        "                continue\n",
        "            # Convert to numpy array and scale to [0,1]\n",
        "            arr = np.array(img, dtype=np.float32) / 255.0\n",
        "            imgs.append(arr)\n",
        "        # Stack all images into a tensor of shape (N, H, W, C)\n",
        "        all_imgs = np.stack(imgs, axis=0)\n",
        "        # Compute mean and std over N, H, and W (keeping channel dimension)\n",
        "        mean = np.mean(all_imgs, axis=(0, 1, 2))\n",
        "        std = np.std(all_imgs, axis=(0, 1, 2))\n",
        "        sensor_stats[sensor] = (mean, std)\n",
        "    return sensor_stats\n",
        "\n",
        "sensor_stats = compute_sensor_stats(records, sensors)"
      ]
    },
    {
      "cell_type": "code",
      "execution_count": null,
      "metadata": {
        "id": "iD99IFWTG26Q",
        "colab": {
          "base_uri": "https://localhost:8080/"
        },
        "outputId": "beceb8dd-eee6-4f2e-b128-89da2b5c379a"
      },
      "outputs": [
        {
          "output_type": "stream",
          "name": "stdout",
          "text": [
            "Total sequences with at least 3 time steps: 4240\n"
          ]
        }
      ],
      "source": [
        "# Group records by (POINT, REGION)\n",
        "grouped = defaultdict(list)\n",
        "for rec in records:\n",
        "    key = (rec['POINT'], rec['REGION'])\n",
        "    grouped[key].append(rec)\n",
        "\n",
        "# Build sequences: sort by DATE and keep only groups with at least 3 records.\n",
        "sequences = []\n",
        "labels = []\n",
        "for key, recs in grouped.items():\n",
        "    recs_sorted = sorted(recs, key=lambda r: r['DATE'])\n",
        "    if len(recs_sorted) >= 3:\n",
        "        seq_images = []\n",
        "        for r in recs_sorted:\n",
        "            # Assume r[sensor] is a PIL Image from which we obtain a numpy array.\n",
        "            rgb = np.array(r['RGB'], dtype=np.float32) / 255.0\n",
        "            # For RGB, sensor_stats['RGB'] returns (mean_rgb, std_rgb) each of shape (3,)\n",
        "            mean_rgb, std_rgb = sensor_stats['RGB']\n",
        "            rgb_norm = (rgb - mean_rgb) / std_rgb\n",
        "\n",
        "            seq_images.append(rgb_norm)\n",
        "\n",
        "        sequences.append(np.array(seq_images))\n",
        "        labels.append(recs_sorted[0]['LABEL'])\n",
        "\n",
        "print(f\"Total sequences with at least 3 time steps: {len(sequences)}\")"
      ]
    },
    {
      "cell_type": "markdown",
      "metadata": {
        "id": "YFdfkTZTt48v"
      },
      "source": [
        "### Train/Validation/Test Split"
      ]
    },
    {
      "cell_type": "code",
      "execution_count": null,
      "metadata": {
        "id": "FdmCY_Wct48w",
        "colab": {
          "base_uri": "https://localhost:8080/"
        },
        "outputId": "623e4e91-f00b-4956-e1d1-6eec8a55d17d"
      },
      "outputs": [
        {
          "output_type": "stream",
          "name": "stdout",
          "text": [
            "Train sequences: 3392\n",
            "Validation sequences: 424\n",
            "Test sequences: 424\n"
          ]
        }
      ],
      "source": [
        "seq_train, seq_temp, label_train, label_temp = train_test_split(\n",
        "    sequences, labels, test_size=0.20, stratify=labels, random_state=42\n",
        ")\n",
        "seq_val, seq_test, label_val, label_test = train_test_split(\n",
        "    seq_temp, label_temp, test_size=0.5, stratify=label_temp, random_state=42\n",
        ")\n",
        "print(\"Train sequences:\", len(seq_train))\n",
        "print(\"Validation sequences:\", len(seq_val))\n",
        "print(\"Test sequences:\", len(seq_test))"
      ]
    },
    {
      "cell_type": "markdown",
      "metadata": {
        "id": "Yb981Rw_cu20"
      },
      "source": [
        "### Create Dataset"
      ]
    },
    {
      "cell_type": "code",
      "execution_count": null,
      "metadata": {
        "id": "9DTgVlPrcxfn"
      },
      "outputs": [],
      "source": [
        "class SequenceDataset(Dataset):\n",
        "    def __init__(self, sequences, labels, augment=False):\n",
        "        self.sequences = sequences\n",
        "        self.labels = labels\n",
        "        self.augment = augment\n",
        "        # Base transform: converts numpy array (H,W,C) to tensor (C,H,W)\n",
        "        self.base_transform = transforms.Compose([\n",
        "            transforms.Lambda(lambda x: torch.from_numpy(x).permute(2, 0, 1).float()),\n",
        "        ])\n",
        "        # Spatial augmentations only\n",
        "        self.augment_transform = transforms.Compose([\n",
        "            transforms.RandomHorizontalFlip(p=0.5),\n",
        "            transforms.RandomVerticalFlip(p=0.3),\n",
        "            transforms.RandomRotation(degrees=(-25, 25)),\n",
        "            transforms.RandomAffine(degrees=0, translate=(0.1, 0.1)),\n",
        "        ])\n",
        "\n",
        "    def __len__(self):\n",
        "        return len(self.sequences)\n",
        "\n",
        "    def __getitem__(self, idx):\n",
        "        seq = self.sequences[idx]   # seq is an array of fused images (each a numpy array)\n",
        "        label = self.labels[idx]\n",
        "        processed_seq = []\n",
        "        for img in seq:\n",
        "            img_tensor = self.base_transform(img)\n",
        "            if self.augment:\n",
        "                img_tensor = self.augment_transform(img_tensor)\n",
        "            processed_seq.append(img_tensor)\n",
        "        seq_length = len(processed_seq)\n",
        "        # Do not pad here; return the list and its length\n",
        "        return processed_seq, label, seq_length\n",
        "\n",
        "def collate_fn(batch):\n",
        "    # Each element in batch is a tuple: (list_of_tensors, label, seq_length)\n",
        "    sequences, labels, lengths = zip(*batch)\n",
        "    # Convert list of tensors for each sample into a single tensor of shape (seq_len, C, H, W)\n",
        "    sequences = [torch.stack(seq) for seq in sequences]\n",
        "    # Pad sequences (batch_first=True gives shape (batch, max_seq_len, C, H, W))\n",
        "    padded_seqs = pad_sequence(sequences, batch_first=True)\n",
        "    lengths = torch.tensor(lengths)\n",
        "    # Sort by descending lengths (required for pack_padded_sequence)\n",
        "    lengths, sort_idx = lengths.sort(descending=True)\n",
        "    padded_seqs = padded_seqs[sort_idx]\n",
        "    labels = torch.tensor(labels)[sort_idx]\n",
        "    # Pack the padded sequence\n",
        "    packed_seqs = pack_padded_sequence(padded_seqs, lengths.cpu(), batch_first=True)\n",
        "    return packed_seqs, labels, lengths\n",
        "\n",
        "train_dataset = SequenceDataset(seq_train, label_train, augment=True)\n",
        "val_dataset = SequenceDataset(seq_val, label_val, augment=False)\n",
        "test_dataset = SequenceDataset(seq_test, label_test, augment=False)\n",
        "\n",
        "train_loader = DataLoader(train_dataset, batch_size=batch_size, shuffle=True, num_workers=2, pin_memory=True, collate_fn=collate_fn)\n",
        "val_loader = DataLoader(val_dataset, batch_size=batch_size, shuffle=False, num_workers=2, pin_memory=True, collate_fn=collate_fn)\n",
        "test_loader = DataLoader(test_dataset, batch_size=batch_size, shuffle=False, num_workers=2, pin_memory=True, collate_fn=collate_fn)"
      ]
    },
    {
      "cell_type": "markdown",
      "metadata": {
        "id": "gsgEKGZvJFFf"
      },
      "source": [
        "### Model Definition"
      ]
    },
    {
      "cell_type": "code",
      "execution_count": null,
      "metadata": {
        "id": "jEgVWKwIJEtD"
      },
      "outputs": [],
      "source": [
        "# Define a basic ConvLSTM cell\n",
        "class ConvLSTMCell(nn.Module):\n",
        "    def __init__(self, input_channels, hidden_channels, kernel_size):\n",
        "        super(ConvLSTMCell, self).__init__()\n",
        "        padding = kernel_size // 2\n",
        "        self.hidden_channels = hidden_channels\n",
        "        self.conv = nn.Conv2d(input_channels + hidden_channels, 4 * hidden_channels,\n",
        "                              kernel_size, padding=padding)\n",
        "\n",
        "    def forward(self, input_tensor, h_cur, c_cur):\n",
        "        # Concatenate along channel dimension\n",
        "        combined = torch.cat([input_tensor, h_cur], dim=1)\n",
        "        conv_output = self.conv(combined)\n",
        "        cc_i, cc_f, cc_o, cc_g = torch.split(conv_output, self.hidden_channels, dim=1)\n",
        "        i = torch.sigmoid(cc_i)\n",
        "        f = torch.sigmoid(cc_f)\n",
        "        o = torch.sigmoid(cc_o)\n",
        "        g = torch.tanh(cc_g)\n",
        "        c_next = f * c_cur + i * g\n",
        "        h_next = o * torch.tanh(c_next)\n",
        "        return h_next, c_next\n",
        "\n",
        "# Define the overall ConvLSTM network\n",
        "class ConvLSTM(nn.Module):\n",
        "    def __init__(self, input_channels, hidden_channels, kernel_size, num_classes):\n",
        "        super(ConvLSTM, self).__init__()\n",
        "        self.hidden_channels = hidden_channels\n",
        "        self.cell = ConvLSTMCell(input_channels, hidden_channels, kernel_size)\n",
        "        self.pool = nn.AdaptiveAvgPool2d((1, 1))\n",
        "        self.fc = nn.Linear(hidden_channels, num_classes)\n",
        "\n",
        "    def forward(self, packed_seq):\n",
        "        # Unpack the PackedSequence into padded_seq and obtain lengths\n",
        "        padded_seq, lengths = torch.nn.utils.rnn.pad_packed_sequence(packed_seq, batch_first=True)\n",
        "        # padded_seq shape: (batch, max_seq_len, channels, H, W)\n",
        "        batch_size, max_seq_len, channels, height, width = padded_seq.size()\n",
        "        device = padded_seq.device\n",
        "\n",
        "        # Initialize hidden and cell states\n",
        "        h = torch.zeros(batch_size, self.hidden_channels, height, width, device=device)\n",
        "        c = torch.zeros(batch_size, self.hidden_channels, height, width, device=device)\n",
        "\n",
        "        # Process each time step for sequences that have valid data\n",
        "        for t in range(max_seq_len):\n",
        "            # Find which sequences have a time step t\n",
        "            active_idx = (lengths > t).nonzero(as_tuple=True)[0]\n",
        "            if active_idx.numel() == 0:\n",
        "                break\n",
        "            # Process only active sequences\n",
        "            input_t = padded_seq[active_idx, t]  # shape: (active, channels, H, W)\n",
        "            h_active = h[active_idx]\n",
        "            c_active = c[active_idx]\n",
        "            h_new, c_new = self.cell(input_t, h_active, c_active)\n",
        "            h[active_idx] = h_new\n",
        "            c[active_idx] = c_new\n",
        "\n",
        "        pooled = self.pool(h)  # shape: (batch, hidden_channels, 1, 1)\n",
        "        pooled = pooled.view(batch_size, -1)\n",
        "        output = self.fc(pooled)\n",
        "        return output"
      ]
    },
    {
      "cell_type": "code",
      "execution_count": null,
      "metadata": {
        "id": "iuYqcYjbYbod"
      },
      "outputs": [],
      "source": [
        "# Calculate the frequency of each class in label_train\n",
        "classes = np.unique(label_train)\n",
        "class_weights = compute_class_weight('balanced', classes=classes, y=label_train)\n",
        "class_weights = torch.tensor(class_weights, dtype=torch.float32).to(device)\n",
        "\n",
        "# Initialize Model, Loss, and Optimizer\n",
        "model = ConvLSTM(input_channels=3, hidden_channels=32, kernel_size=3, num_classes=num_classes).to(device)\n",
        "criterion = nn.CrossEntropyLoss(weight=class_weights)\n",
        "optimizer = optim.Adam(model.parameters(), lr=0.001)"
      ]
    },
    {
      "cell_type": "markdown",
      "metadata": {
        "id": "id3tzaOvJP7B"
      },
      "source": [
        "### Model Training"
      ]
    },
    {
      "cell_type": "code",
      "execution_count": 12,
      "metadata": {
        "colab": {
          "base_uri": "https://localhost:8080/"
        },
        "id": "BbRtAblpNPe-",
        "outputId": "5a68a9e2-f437-4218-c5fd-f96d0c43e28d"
      },
      "outputs": [
        {
          "output_type": "stream",
          "name": "stdout",
          "text": [
            "Epoch 1/50\n",
            "Train Loss: 1.9442, Acc: 0.3558\n",
            "Val Loss: 1.6237, Acc: 0.4976\n",
            "\n",
            "Epoch 2/50\n",
            "Train Loss: 1.5393, Acc: 0.5433\n",
            "Val Loss: 1.3842, Acc: 0.6085\n",
            "\n",
            "Epoch 3/50\n",
            "Train Loss: 1.3527, Acc: 0.6135\n",
            "Val Loss: 1.2218, Acc: 0.6557\n",
            "\n",
            "Epoch 4/50\n",
            "Train Loss: 1.2529, Acc: 0.6427\n",
            "Val Loss: 1.1774, Acc: 0.6675\n",
            "\n",
            "Epoch 5/50\n",
            "Train Loss: 1.1768, Acc: 0.6657\n",
            "Val Loss: 1.0714, Acc: 0.6887\n",
            "\n",
            "Epoch 6/50\n",
            "Train Loss: 1.1358, Acc: 0.6725\n",
            "Val Loss: 1.0804, Acc: 0.7075\n",
            "\n",
            "Epoch 7/50\n",
            "Train Loss: 1.0875, Acc: 0.6819\n",
            "Val Loss: 0.9974, Acc: 0.7005\n",
            "\n",
            "Epoch 8/50\n",
            "Train Loss: 1.0503, Acc: 0.6922\n",
            "Val Loss: 0.9816, Acc: 0.7099\n",
            "\n",
            "Epoch 9/50\n",
            "Train Loss: 1.0170, Acc: 0.7037\n",
            "Val Loss: 0.9457, Acc: 0.7382\n",
            "\n",
            "Epoch 10/50\n",
            "Train Loss: 1.0046, Acc: 0.7105\n",
            "Val Loss: 0.9521, Acc: 0.7241\n",
            "\n",
            "Epoch 11/50\n",
            "Train Loss: 0.9708, Acc: 0.7108\n",
            "Val Loss: 0.9526, Acc: 0.7429\n",
            "\n",
            "Epoch 12/50\n",
            "Train Loss: 0.9563, Acc: 0.7196\n",
            "Val Loss: 0.9238, Acc: 0.7382\n",
            "\n",
            "Epoch 13/50\n",
            "Train Loss: 0.9393, Acc: 0.7261\n",
            "Val Loss: 0.8916, Acc: 0.7406\n",
            "\n",
            "Epoch 14/50\n",
            "Train Loss: 0.9388, Acc: 0.7220\n",
            "Val Loss: 0.8838, Acc: 0.7524\n",
            "\n",
            "Epoch 15/50\n",
            "Train Loss: 0.9112, Acc: 0.7291\n",
            "Val Loss: 0.8949, Acc: 0.7476\n",
            "\n",
            "Epoch 16/50\n",
            "Train Loss: 0.8999, Acc: 0.7356\n",
            "Val Loss: 0.8623, Acc: 0.7524\n",
            "\n",
            "Epoch 17/50\n",
            "Train Loss: 0.8887, Acc: 0.7415\n",
            "Val Loss: 0.8630, Acc: 0.7618\n",
            "\n",
            "Epoch 18/50\n",
            "Train Loss: 0.8701, Acc: 0.7391\n",
            "Val Loss: 0.8680, Acc: 0.7736\n",
            "\n",
            "Epoch 19/50\n",
            "Train Loss: 0.8539, Acc: 0.7465\n",
            "Val Loss: 0.8713, Acc: 0.7500\n",
            "\n",
            "Epoch 20/50\n",
            "Train Loss: 0.8551, Acc: 0.7482\n",
            "Val Loss: 0.9015, Acc: 0.7335\n",
            "\n",
            "Epoch 21/50\n",
            "Train Loss: 0.8343, Acc: 0.7482\n",
            "Val Loss: 0.8647, Acc: 0.7571\n",
            "\n",
            "Early stopping triggered at epoch 21\n"
          ]
        }
      ],
      "source": [
        "history = {\n",
        "    'loss': [],\n",
        "    'val_loss': [],\n",
        "    'accuracy': [],\n",
        "    'val_accuracy': []\n",
        "}\n",
        "\n",
        "best_val_loss = float('inf')\n",
        "patience_counter = 0\n",
        "\n",
        "for epoch in range(epochs):\n",
        "    # Training phase\n",
        "    model.train()\n",
        "    running_loss = 0.0\n",
        "    running_correct = 0\n",
        "    for seqs, labels, lengths in train_loader:\n",
        "        seqs = seqs.to(device)\n",
        "        labels = labels.to(device)\n",
        "\n",
        "        optimizer.zero_grad()\n",
        "        outputs = model(seqs)\n",
        "        loss = criterion(outputs, labels)\n",
        "        loss.backward()\n",
        "        optimizer.step()\n",
        "\n",
        "        running_loss += loss.item() * labels.size(0)\n",
        "        _, preds = torch.max(outputs, 1)\n",
        "        running_correct += torch.sum(preds == labels).item()\n",
        "\n",
        "    epoch_loss = running_loss / len(train_loader.dataset)\n",
        "    epoch_acc = running_correct / len(train_loader.dataset)\n",
        "    history['loss'].append(epoch_loss)\n",
        "    history['accuracy'].append(epoch_acc)\n",
        "\n",
        "    # Validation phase\n",
        "    model.eval()\n",
        "    val_loss = 0.0\n",
        "    val_correct = 0\n",
        "    with torch.no_grad():\n",
        "        for seqs, labels, lengths in val_loader:\n",
        "            seqs = seqs.to(device)\n",
        "            labels = labels.to(device)\n",
        "\n",
        "            outputs = model(seqs)\n",
        "            loss = criterion(outputs, labels)\n",
        "\n",
        "            val_loss += loss.item() * labels.size(0)\n",
        "            _, preds = torch.max(outputs, 1)\n",
        "            val_correct += torch.sum(preds == labels).item()\n",
        "\n",
        "    val_epoch_loss = val_loss / len(val_loader.dataset)\n",
        "    val_epoch_acc = val_correct / len(val_loader.dataset)\n",
        "    history['val_loss'].append(val_epoch_loss)\n",
        "    history['val_accuracy'].append(val_epoch_acc)\n",
        "\n",
        "    print(f\"Epoch {epoch+1}/{epochs}\")\n",
        "    print(f\"Train Loss: {epoch_loss:.4f}, Acc: {epoch_acc:.4f}\")\n",
        "    print(f\"Val Loss: {val_epoch_loss:.4f}, Acc: {val_epoch_acc:.4f}\\n\")\n",
        "\n",
        "    # Early stopping check\n",
        "    if val_epoch_loss < best_val_loss:\n",
        "        best_val_loss = val_epoch_loss\n",
        "        patience_counter = 0\n",
        "        torch.save(model.state_dict(), 'best_model.pth')\n",
        "    else:\n",
        "        patience_counter += 1\n",
        "        if patience_counter >= patience:\n",
        "            print(f\"Early stopping triggered at epoch {epoch+1}\")\n",
        "            break"
      ]
    },
    {
      "cell_type": "markdown",
      "metadata": {
        "id": "i000Wxv4t48z"
      },
      "source": [
        "### Model Evaluation"
      ]
    },
    {
      "cell_type": "code",
      "execution_count": 13,
      "metadata": {
        "colab": {
          "base_uri": "https://localhost:8080/"
        },
        "id": "v8EYN1myt48z",
        "outputId": "dd1a231a-f1f6-4aa7-a233-502a44c1ff32"
      },
      "outputs": [
        {
          "output_type": "stream",
          "name": "stdout",
          "text": [
            "Test Loss: 0.9152, Test Accuracy: 0.7335\n"
          ]
        }
      ],
      "source": [
        "model.eval()\n",
        "test_loss = 0.0\n",
        "correct = 0\n",
        "all_labels = []\n",
        "all_preds = []\n",
        "\n",
        "with torch.no_grad():\n",
        "    for packed_seq, label, length in test_loader:\n",
        "        # Move the underlying data to device:\n",
        "        packed_seq = torch.nn.utils.rnn.PackedSequence(\n",
        "            packed_seq.data.to(device),\n",
        "            packed_seq.batch_sizes,\n",
        "            packed_seq.sorted_indices,\n",
        "            packed_seq.unsorted_indices\n",
        "        )\n",
        "        label = label.to(device)\n",
        "\n",
        "        outputs = model(packed_seq)  # Model's forward unpacks internally\n",
        "        loss = criterion(outputs, label)\n",
        "        test_loss += loss.item() * label.size(0)  # use batch size from labels\n",
        "        _, preds = torch.max(outputs, 1)\n",
        "        correct += torch.sum(preds == label).item()\n",
        "\n",
        "        all_preds.extend(preds.cpu().numpy())\n",
        "        all_labels.extend(label.cpu().numpy())\n",
        "\n",
        "test_loss /= len(test_loader.dataset)\n",
        "accuracy = correct / len(test_loader.dataset)\n",
        "print(f\"Test Loss: {test_loss:.4f}, Test Accuracy: {accuracy:.4f}\")"
      ]
    },
    {
      "cell_type": "code",
      "execution_count": null,
      "metadata": {
        "colab": {
          "background_save": true
        },
        "id": "lOyUyalz8Cq9"
      },
      "outputs": [],
      "source": [
        "# Compute confusion matrix\n",
        "cm = confusion_matrix(all_labels, all_preds)\n",
        "plt.figure(figsize=(8, 6))\n",
        "sns.heatmap(cm, annot=True, fmt=\"d\", cmap=\"Blues\",\n",
        "            xticklabels=list(crop_mapping.keys()),\n",
        "            yticklabels=list(crop_mapping.keys()))\n",
        "plt.xlabel(\"Predicted Label\")\n",
        "plt.ylabel(\"True Label\")\n",
        "plt.title(\"Confusion Matrix\")\n",
        "plt.show()"
      ]
    },
    {
      "cell_type": "code",
      "execution_count": 15,
      "metadata": {
        "colab": {
          "base_uri": "https://localhost:8080/"
        },
        "id": "CvPvLLTo8D6M",
        "outputId": "9d35d666-75dd-4967-e10c-a898c22978e5"
      },
      "outputs": [
        {
          "output_type": "stream",
          "name": "stdout",
          "text": [
            "Classification Report:\n",
            "              precision    recall  f1-score   support\n",
            "\n",
            "      BARLEY       0.55      0.46      0.50        24\n",
            "      CANOLA       0.97      0.86      0.91        80\n",
            "        CORN       0.61      0.80      0.70        61\n",
            "   MIXEDWOOD       0.86      1.00      0.93        31\n",
            "         OAT       0.30      0.21      0.25        14\n",
            "     ORCHARD       0.90      1.00      0.95        45\n",
            "     PASTURE       0.63      0.71      0.67        59\n",
            "      POTATO       0.56      0.56      0.56        18\n",
            "     SOYBEAN       0.55      0.26      0.35        42\n",
            "SPRING_WHEAT       0.77      0.80      0.78        50\n",
            "\n",
            "    accuracy                           0.73       424\n",
            "   macro avg       0.67      0.67      0.66       424\n",
            "weighted avg       0.73      0.73      0.72       424\n",
            "\n"
          ]
        }
      ],
      "source": [
        "# Compute and print classwise metrics\n",
        "report = classification_report(all_labels, all_preds, target_names=list(crop_mapping.keys()))\n",
        "print(\"Classification Report:\")\n",
        "print(report)"
      ]
    },
    {
      "cell_type": "markdown",
      "metadata": {
        "id": "_lgg-1mSt48z"
      },
      "source": [
        "### Plot Training Curves"
      ]
    },
    {
      "cell_type": "code",
      "execution_count": 16,
      "metadata": {
        "colab": {
          "base_uri": "https://localhost:8080/",
          "height": 807
        },
        "id": "0PsxXzRbt480",
        "outputId": "6c248b7b-4236-45d9-dee0-e92ab8e9604f"
      },
      "outputs": [
        {
          "data": {
            "image/png": "[encoded data removed]",
            "text/plain": [
              "<Figure size 1200x800 with 2 Axes>"
            ]
          },
          "metadata": {},
          "output_type": "display_data"
        }
      ],
      "source": [
        "plt.figure(figsize=(12, 8))\n",
        "\n",
        "# Loss Plot\n",
        "plt.subplot(2, 1, 1)\n",
        "plt.plot(history['loss'], label='Train Loss', color='blue', linestyle='-')\n",
        "plt.plot(history['val_loss'], label='Val Loss', color='red', linestyle='--')\n",
        "plt.title('Loss Over Epochs', fontsize=14)\n",
        "plt.xlabel('Epoch', fontsize=12)\n",
        "plt.ylabel('Loss', fontsize=12)\n",
        "plt.legend(fontsize=12)\n",
        "plt.grid(True)\n",
        "\n",
        "# Accuracy Plot\n",
        "plt.subplot(2, 1, 2)\n",
        "plt.plot(history['accuracy'], label='Train Accuracy', color='blue', linestyle='-')\n",
        "plt.plot(history['val_accuracy'], label='Val Accuracy', color='red', linestyle='--')\n",
        "plt.title('Accuracy Over Epochs', fontsize=14)\n",
        "plt.xlabel('Epoch', fontsize=12)\n",
        "plt.ylabel('Accuracy', fontsize=12)\n",
        "plt.legend(fontsize=12)\n",
        "plt.grid(True)\n",
        "\n",
        "plt.tight_layout()\n",
        "plt.show()"
      ]
    },
    {
      "cell_type": "markdown",
      "metadata": {
        "id": "jnY2Las9yCfR"
      },
      "source": []
    }
  ],
  "metadata": {
    "colab": {
      "provenance": [],
      "include_colab_link": true
    },
    "kernelspec": {
      "display_name": "Python 3",
      "name": "python3"
    },
    "language_info": {
      "codemirror_mode": {
        "name": "ipython",
        "version": 3
      },
      "file_extension": ".py",
      "mimetype": "text/x-python",
      "name": "python",
      "nbconvert_exporter": "python",
      "pygments_lexer": "ipython3",
      "version": "3.11.11"
    }
  },
  "nbformat": 4,
  "nbformat_minor": 0
}